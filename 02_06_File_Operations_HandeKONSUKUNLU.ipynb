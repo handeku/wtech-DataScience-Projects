{
 "cells": [
  {
   "cell_type": "markdown",
   "metadata": {},
   "source": [
    "# Assignments for \"File Operations\""
   ]
  },
  {
   "cell_type": "markdown",
   "metadata": {},
   "source": [
    "1. Please write a poem you wanted in a `.txt` file and save it to the disk."
   ]
  },
  {
   "cell_type": "code",
   "execution_count": 1,
   "metadata": {},
   "outputs": [],
   "source": [
    "with open(\"OscarWilde_impression.txt\",'w') as f: \n",
    "    f.write(\"I. Les Silhouttes\\n\")\n",
    "    f.write(\"\\n\")\n",
    "    f.write(\"The sea is flecked with bars of grey\\n\")\n",
    "    f.write(\"The dull dead wind is out of tune\\n\")\n",
    "    f.write(\"And like a withered leaf the moon\\n\")\n",
    "    f.write(\"Is blown across the stormy bay.\\n\")\n",
    "    f.write(\"\\n\")\n",
    "    f.write(\"Etched clear upon the pallid sand\\n\")\n",
    "    f.write(\"The black boat lies: a sailor boy\\n\")\n",
    "    f.write(\"Clambers aboard in careless joy\\n\")\n",
    "    f.write(\"With laughing face and gleaming hand.\\n\")\n",
    "    f.write(\"\\n\")\n",
    "    f.write(\"And overheard the curlews cry,\\n\")\n",
    "    f.write(\"Where through the dusky upland grass\\n\")\n",
    "    f.write(\"The young brown-throated reapers pass,\\n\")\n",
    "    f.write(\"Like silhouettes against the sky.\\n\")\n",
    "    f.write(\"\\n\")\n",
    "\n"
   ]
  },
  {
   "cell_type": "markdown",
   "metadata": {},
   "source": [
    "2. Append a new poem into the file you have created."
   ]
  },
  {
   "cell_type": "code",
   "execution_count": 2,
   "metadata": {},
   "outputs": [],
   "source": [
    "with open(\"OscarWilde_impression.txt\",'a') as f:\n",
    "    f.write(\"II. La Fuite De La Lune.\\n\")\n",
    "    f.write(\"\\n\")\n",
    "    f.write(\"To outer senses there is peace,\\n\")\n",
    "    f.write(\"A dreamy peace on either hand,\\n\")\n",
    "    f.write(\"Deep silence in the shadowy land,\\n\")\n",
    "    f.write(\"Deep silence where the shadows cease.\\n\")\n",
    "    f.write(\"\\n\")\n",
    "    f.write(\"Save for a cry that echoes shrill\\n\")\n",
    "    f.write(\"From some lone bird disconsolate;\\n\")\n",
    "    f.write(\"A corncrake calling to its mate;\\n\")\n",
    "    f.write(\"The answer from the misty hill.\\n\")\n",
    "    f.write(\"\\n\")\n",
    "    f.write(\"An suddenly the moon withdraws\\n\")\n",
    "    f.write(\"Her sickle from the lightening skies,\\n\")\n",
    "    f.write(\"And to her sombre cavern flies,\\n\")\n",
    "    f.write(\"Wrapped in a veil of yellow gauze.\\n\")"
   ]
  },
  {
   "cell_type": "markdown",
   "metadata": {},
   "source": [
    "3. Read and print all poems."
   ]
  },
  {
   "cell_type": "code",
   "execution_count": 3,
   "metadata": {},
   "outputs": [
    {
     "name": "stdout",
     "output_type": "stream",
     "text": [
      "I. Les Silhouttes\n",
      "\n",
      "The sea is flecked with bars of grey\n",
      "The dull dead wind is out of tune\n",
      "And like a withered leaf the moon\n",
      "Is blown across the stormy bay.\n",
      "\n",
      "Etched clear upon the pallid sand\n",
      "The black boat lies: a sailor boy\n",
      "Clambers aboard in careless joy\n",
      "With laughing face and gleaming hand.\n",
      "\n",
      "And overheard the curlews cry,\n",
      "Where through the dusky upland grass\n",
      "The young brown-throated reapers pass,\n",
      "Like silhouettes against the sky.\n",
      "\n",
      "II. La Fuite De La Lune.\n",
      "\n",
      "To outer senses there is peace,\n",
      "A dreamy peace on either hand,\n",
      "Deep silence in the shadowy land,\n",
      "Deep silence where the shadows cease.\n",
      "\n",
      "Save for a cry that echoes shrill\n",
      "From some lone bird disconsolate;\n",
      "A corncrake calling to its mate;\n",
      "The answer from the misty hill.\n",
      "\n",
      "An suddenly the moon withdraws\n",
      "Her sickle from the lightening skies,\n",
      "And to her sombre cavern flies,\n",
      "Wrapped in a veil of yellow gauze.\n",
      "\n"
     ]
    }
   ],
   "source": [
    "with open(\"OscarWilde_impression.txt\", \"r\") as f:\n",
    "    lines=f.read()\n",
    "print(lines)    "
   ]
  }
 ],
 "metadata": {
  "kernelspec": {
   "display_name": "Python 3",
   "language": "python",
   "name": "python3"
  },
  "language_info": {
   "codemirror_mode": {
    "name": "ipython",
    "version": 3
   },
   "file_extension": ".py",
   "mimetype": "text/x-python",
   "name": "python",
   "nbconvert_exporter": "python",
   "pygments_lexer": "ipython3",
   "version": "3.8.3"
  }
 },
 "nbformat": 4,
 "nbformat_minor": 4
}
