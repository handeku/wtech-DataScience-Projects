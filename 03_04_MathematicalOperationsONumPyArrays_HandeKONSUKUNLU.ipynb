{
 "cells": [
  {
   "cell_type": "markdown",
   "metadata": {},
   "source": [
    "# <font color=blue>Assignments for \"Mathematical Operations on NumPy Arrays\"</font>"
   ]
  },
  {
   "cell_type": "markdown",
   "metadata": {},
   "source": [
    "1. Load the array you saved in the previous lesson from the disk."
   ]
  },
  {
   "cell_type": "code",
   "execution_count": 1,
   "metadata": {},
   "outputs": [
    {
     "data": {
      "text/plain": [
       "array([[ 1.    ,  1.    ,  1.    ,  1.    ,  1.    ],\n",
       "       [ 0.    , 36.0535, 31.2135, 36.68  ,  5.2   ],\n",
       "       [ 0.    , 37.1958, 30.6241, 50.33  ,  4.8   ],\n",
       "       [ 0.    , 37.3773, 36.3855, 10.53  ,  4.8   ],\n",
       "       [ 0.    , 35.8861, 26.0695, 28.49  ,  4.9   ],\n",
       "       [ 0.    , 37.6546, 26.6698,  4.5   ,  4.5   ],\n",
       "       [ 0.    , 37.5318, 29.848 , 17.58  ,  4.6   ],\n",
       "       [ 0.    , 39.0388, 44.1533,  7.52  ,  4.5   ]])"
      ]
     },
     "execution_count": 1,
     "metadata": {},
     "output_type": "execute_result"
    }
   ],
   "source": [
    "import numpy as np\n",
    "A=np.load('C:/Users/HANDEKONSUKUNLU/Documents/Data Science Course-wtech/earthquake_sliced.npy')\n",
    "A"
   ]
  },
  {
   "cell_type": "markdown",
   "metadata": {},
   "source": [
    "2. Display the mean and the standard deviation for each column."
   ]
  },
  {
   "cell_type": "code",
   "execution_count": 2,
   "metadata": {},
   "outputs": [
    {
     "name": "stdout",
     "output_type": "stream",
     "text": [
      "The mean of each columun:  [ 0.125     32.7172375 28.2454625 19.57875    4.2875   ]\n",
      "The standard deviation of each columun:  [ 0.33071891 12.02314907 11.65057695 16.28392416  1.26138565]\n"
     ]
    }
   ],
   "source": [
    "print(\"The mean of each columun: \",np.mean(A,axis=0))\n",
    "print(\"The standard deviation of each columun: \",np.std(A,axis=0))"
   ]
  },
  {
   "cell_type": "markdown",
   "metadata": {},
   "source": [
    "3. Subtract 1, 25, 25, 10, 4 from columns in order. (Remember it can be subtracted in one line of code.)"
   ]
  },
  {
   "cell_type": "code",
   "execution_count": 3,
   "metadata": {},
   "outputs": [
    {
     "data": {
      "text/plain": [
       "array([ 1, 25, 25, 10,  4])"
      ]
     },
     "execution_count": 3,
     "metadata": {},
     "output_type": "execute_result"
    }
   ],
   "source": [
    "B=np.array([1,25,25,10,4])\n",
    "B"
   ]
  },
  {
   "cell_type": "code",
   "execution_count": 4,
   "metadata": {},
   "outputs": [
    {
     "data": {
      "text/plain": [
       "array([[  0.    , -24.    , -24.    ,  -9.    ,  -3.    ],\n",
       "       [ -1.    ,  11.0535,   6.2135,  26.68  ,   1.2   ],\n",
       "       [ -1.    ,  12.1958,   5.6241,  40.33  ,   0.8   ],\n",
       "       [ -1.    ,  12.3773,  11.3855,   0.53  ,   0.8   ],\n",
       "       [ -1.    ,  10.8861,   1.0695,  18.49  ,   0.9   ],\n",
       "       [ -1.    ,  12.6546,   1.6698,  -5.5   ,   0.5   ],\n",
       "       [ -1.    ,  12.5318,   4.848 ,   7.58  ,   0.6   ],\n",
       "       [ -1.    ,  14.0388,  19.1533,  -2.48  ,   0.5   ]])"
      ]
     },
     "execution_count": 4,
     "metadata": {},
     "output_type": "execute_result"
    }
   ],
   "source": [
    "C=A-B\n",
    "C"
   ]
  },
  {
   "cell_type": "markdown",
   "metadata": {},
   "source": [
    "4. Multiply each element by 2. (Remember it can be multiplied in one line of code.)"
   ]
  },
  {
   "cell_type": "code",
   "execution_count": 5,
   "metadata": {},
   "outputs": [
    {
     "data": {
      "text/plain": [
       "array([[  0.    , -48.    , -48.    , -18.    ,  -6.    ],\n",
       "       [ -2.    ,  22.107 ,  12.427 ,  53.36  ,   2.4   ],\n",
       "       [ -2.    ,  24.3916,  11.2482,  80.66  ,   1.6   ],\n",
       "       [ -2.    ,  24.7546,  22.771 ,   1.06  ,   1.6   ],\n",
       "       [ -2.    ,  21.7722,   2.139 ,  36.98  ,   1.8   ],\n",
       "       [ -2.    ,  25.3092,   3.3396, -11.    ,   1.    ],\n",
       "       [ -2.    ,  25.0636,   9.696 ,  15.16  ,   1.2   ],\n",
       "       [ -2.    ,  28.0776,  38.3066,  -4.96  ,   1.    ]])"
      ]
     },
     "execution_count": 5,
     "metadata": {},
     "output_type": "execute_result"
    }
   ],
   "source": [
    "D=C*2\n",
    "D"
   ]
  }
 ],
 "metadata": {
  "kernelspec": {
   "display_name": "Python 3",
   "language": "python",
   "name": "python3"
  },
  "language_info": {
   "codemirror_mode": {
    "name": "ipython",
    "version": 3
   },
   "file_extension": ".py",
   "mimetype": "text/x-python",
   "name": "python",
   "nbconvert_exporter": "python",
   "pygments_lexer": "ipython3",
   "version": "3.8.3"
  }
 },
 "nbformat": 4,
 "nbformat_minor": 4
}
