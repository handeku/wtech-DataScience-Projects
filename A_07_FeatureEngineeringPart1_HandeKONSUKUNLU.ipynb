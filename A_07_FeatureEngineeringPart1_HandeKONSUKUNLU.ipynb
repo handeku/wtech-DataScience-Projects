{
 "cells": [
  {
   "cell_type": "markdown",
   "metadata": {},
   "source": [
    "# <font color=blue>Assignments for \"Feature Engineering - Part 1\"</font>"
   ]
  },
  {
   "cell_type": "markdown",
   "metadata": {},
   "source": [
    "In this assignment, you will continue to study the data of the `US Education System` ([dataset](https://www.kaggle.com/spscientist/students-performance-in-exams/home)). In this dataset, there is a lot of data on an annual basis. You can reach the explanations of this data from Kaggle again.\n",
    "\n",
    "To complete this assignment, submit the Github link of the Jupyter notebook file containing solutions to the questions below. You can talk to your mentor on your head or ask Slack at office time."
   ]
  },
  {
   "cell_type": "code",
   "execution_count": 1,
   "metadata": {},
   "outputs": [
    {
     "data": {
      "text/html": [
       "<div>\n",
       "<style scoped>\n",
       "    .dataframe tbody tr th:only-of-type {\n",
       "        vertical-align: middle;\n",
       "    }\n",
       "\n",
       "    .dataframe tbody tr th {\n",
       "        vertical-align: top;\n",
       "    }\n",
       "\n",
       "    .dataframe thead th {\n",
       "        text-align: right;\n",
       "    }\n",
       "</style>\n",
       "<table border=\"1\" class=\"dataframe\">\n",
       "  <thead>\n",
       "    <tr style=\"text-align: right;\">\n",
       "      <th></th>\n",
       "      <th>gender</th>\n",
       "      <th>race/ethnicity</th>\n",
       "      <th>parental level of education</th>\n",
       "      <th>lunch</th>\n",
       "      <th>test preparation course</th>\n",
       "      <th>math score</th>\n",
       "      <th>reading score</th>\n",
       "      <th>writing score</th>\n",
       "    </tr>\n",
       "  </thead>\n",
       "  <tbody>\n",
       "    <tr>\n",
       "      <th>0</th>\n",
       "      <td>female</td>\n",
       "      <td>group B</td>\n",
       "      <td>bachelor's degree</td>\n",
       "      <td>standard</td>\n",
       "      <td>none</td>\n",
       "      <td>72</td>\n",
       "      <td>72</td>\n",
       "      <td>74</td>\n",
       "    </tr>\n",
       "    <tr>\n",
       "      <th>1</th>\n",
       "      <td>female</td>\n",
       "      <td>group C</td>\n",
       "      <td>some college</td>\n",
       "      <td>standard</td>\n",
       "      <td>completed</td>\n",
       "      <td>69</td>\n",
       "      <td>90</td>\n",
       "      <td>88</td>\n",
       "    </tr>\n",
       "    <tr>\n",
       "      <th>2</th>\n",
       "      <td>female</td>\n",
       "      <td>group B</td>\n",
       "      <td>master's degree</td>\n",
       "      <td>standard</td>\n",
       "      <td>none</td>\n",
       "      <td>90</td>\n",
       "      <td>95</td>\n",
       "      <td>93</td>\n",
       "    </tr>\n",
       "    <tr>\n",
       "      <th>3</th>\n",
       "      <td>male</td>\n",
       "      <td>group A</td>\n",
       "      <td>associate's degree</td>\n",
       "      <td>free/reduced</td>\n",
       "      <td>none</td>\n",
       "      <td>47</td>\n",
       "      <td>57</td>\n",
       "      <td>44</td>\n",
       "    </tr>\n",
       "    <tr>\n",
       "      <th>4</th>\n",
       "      <td>male</td>\n",
       "      <td>group C</td>\n",
       "      <td>some college</td>\n",
       "      <td>standard</td>\n",
       "      <td>none</td>\n",
       "      <td>76</td>\n",
       "      <td>78</td>\n",
       "      <td>75</td>\n",
       "    </tr>\n",
       "  </tbody>\n",
       "</table>\n",
       "</div>"
      ],
      "text/plain": [
       "   gender race/ethnicity parental level of education         lunch  \\\n",
       "0  female        group B           bachelor's degree      standard   \n",
       "1  female        group C                some college      standard   \n",
       "2  female        group B             master's degree      standard   \n",
       "3    male        group A          associate's degree  free/reduced   \n",
       "4    male        group C                some college      standard   \n",
       "\n",
       "  test preparation course  math score  reading score  writing score  \n",
       "0                    none          72             72             74  \n",
       "1               completed          69             90             88  \n",
       "2                    none          90             95             93  \n",
       "3                    none          47             57             44  \n",
       "4                    none          76             78             75  "
      ]
     },
     "execution_count": 1,
     "metadata": {},
     "output_type": "execute_result"
    }
   ],
   "source": [
    "import matplotlib.pyplot as plt\n",
    "import seaborn as sns\n",
    "import numpy as np\n",
    "import pandas as pd\n",
    "import seaborn as sns\n",
    "import scipy.stats as stats\n",
    "from scipy.stats.mstats import winsorize\n",
    "from statsmodels.formula.api import ols\n",
    "import statsmodels.api as sm\n",
    "from sqlalchemy import create_engine\n",
    "from scipy.stats import jarque_bera\n",
    "import warnings\n",
    "\n",
    "students = pd.read_csv(\"../../data/EDA/StudentsPerformance.csv\")\n",
    "students.head()\n"
   ]
  },
  {
   "cell_type": "markdown",
   "metadata": {},
   "source": [
    "**(1)** Are the exam scores (math, reading, writing) normally distributed? If not, what can we do to have a normal distribution?"
   ]
  },
  {
   "cell_type": "code",
   "execution_count": 2,
   "metadata": {},
   "outputs": [
    {
     "data": {
      "text/html": [
       "<div>\n",
       "<style scoped>\n",
       "    .dataframe tbody tr th:only-of-type {\n",
       "        vertical-align: middle;\n",
       "    }\n",
       "\n",
       "    .dataframe tbody tr th {\n",
       "        vertical-align: top;\n",
       "    }\n",
       "\n",
       "    .dataframe thead th {\n",
       "        text-align: right;\n",
       "    }\n",
       "</style>\n",
       "<table border=\"1\" class=\"dataframe\">\n",
       "  <thead>\n",
       "    <tr style=\"text-align: right;\">\n",
       "      <th></th>\n",
       "      <th>variable</th>\n",
       "      <th>jarque_bera_stats</th>\n",
       "      <th>jarque_bera_p_value</th>\n",
       "    </tr>\n",
       "  </thead>\n",
       "  <tbody>\n",
       "    <tr>\n",
       "      <th>0</th>\n",
       "      <td>math score</td>\n",
       "      <td>15.91226</td>\n",
       "      <td>0.00035</td>\n",
       "    </tr>\n",
       "    <tr>\n",
       "      <th>1</th>\n",
       "      <td>reading score</td>\n",
       "      <td>11.38330</td>\n",
       "      <td>0.00337</td>\n",
       "    </tr>\n",
       "    <tr>\n",
       "      <th>2</th>\n",
       "      <td>writing score</td>\n",
       "      <td>13.98509</td>\n",
       "      <td>0.00092</td>\n",
       "    </tr>\n",
       "  </tbody>\n",
       "</table>\n",
       "</div>"
      ],
      "text/plain": [
       "        variable  jarque_bera_stats  jarque_bera_p_value\n",
       "0     math score           15.91226              0.00035\n",
       "1  reading score           11.38330              0.00337\n",
       "2  writing score           13.98509              0.00092"
      ]
     },
     "execution_count": 2,
     "metadata": {},
     "output_type": "execute_result"
    }
   ],
   "source": [
    "variables=[\"math score\",\"reading score\",\"writing score\"]\n",
    "\n",
    "pd.options.display.float_format = '{:.5f}'.format\n",
    "\n",
    "distribution_tests = pd.DataFrame(columns=['variable', 'jarque_bera_stats', 'jarque_bera_p_value'])\n",
    "\n",
    "for variable in variables:\n",
    "    jb_stats = jarque_bera(students[variable])\n",
    "    distribution_tests = distribution_tests.append({\"variable\": variable,\n",
    "                                                \"jarque_bera_stats\" : jb_stats[0] ,\n",
    "                                                \"jarque_bera_p_value\" : jb_stats[1]\n",
    "                                               }, ignore_index=True)\n",
    "distribution_tests\n"
   ]
  },
  {
   "cell_type": "code",
   "execution_count": 3,
   "metadata": {},
   "outputs": [
    {
     "data": {
      "image/png": "[encoded data removed]",
      "text/plain": [
       "<Figure size 1296x360 with 3 Axes>"
      ]
     },
     "metadata": {
      "needs_background": "light"
     },
     "output_type": "display_data"
    }
   ],
   "source": [
    "j=1\n",
    "plt.figure(figsize=(18,5))\n",
    "for var in variables: \n",
    "    plt.subplot(1,3,j)\n",
    "    plt.hist(students[var],color=\"green\")\n",
    "    plt.title(\"{}\".format(var), color=\"darkblue\",fontsize=16)\n",
    "    j=j+1"
   ]
  },
  {
   "cell_type": "markdown",
   "metadata": {},
   "source": [
    "**LOG-TRANSFORMATION:**"
   ]
  },
  {
   "cell_type": "code",
   "execution_count": 4,
   "metadata": {},
   "outputs": [
    {
     "data": {
      "text/html": [
       "<div>\n",
       "<style scoped>\n",
       "    .dataframe tbody tr th:only-of-type {\n",
       "        vertical-align: middle;\n",
       "    }\n",
       "\n",
       "    .dataframe tbody tr th {\n",
       "        vertical-align: top;\n",
       "    }\n",
       "\n",
       "    .dataframe thead th {\n",
       "        text-align: right;\n",
       "    }\n",
       "</style>\n",
       "<table border=\"1\" class=\"dataframe\">\n",
       "  <thead>\n",
       "    <tr style=\"text-align: right;\">\n",
       "      <th></th>\n",
       "      <th>variable</th>\n",
       "      <th>jarque_bera_stats</th>\n",
       "      <th>jarque_bera_p_value</th>\n",
       "    </tr>\n",
       "  </thead>\n",
       "  <tbody>\n",
       "    <tr>\n",
       "      <th>0</th>\n",
       "      <td>math score</td>\n",
       "      <td>15928783.83456</td>\n",
       "      <td>0.00000</td>\n",
       "    </tr>\n",
       "    <tr>\n",
       "      <th>1</th>\n",
       "      <td>reading score</td>\n",
       "      <td>495.12695</td>\n",
       "      <td>0.00000</td>\n",
       "    </tr>\n",
       "    <tr>\n",
       "      <th>2</th>\n",
       "      <td>writing score</td>\n",
       "      <td>1410.93502</td>\n",
       "      <td>0.00000</td>\n",
       "    </tr>\n",
       "  </tbody>\n",
       "</table>\n",
       "</div>"
      ],
      "text/plain": [
       "        variable  jarque_bera_stats  jarque_bera_p_value\n",
       "0     math score     15928783.83456              0.00000\n",
       "1  reading score          495.12695              0.00000\n",
       "2  writing score         1410.93502              0.00000"
      ]
     },
     "execution_count": 4,
     "metadata": {},
     "output_type": "execute_result"
    }
   ],
   "source": [
    "distribution_tests = pd.DataFrame(columns=['variable', 'jarque_bera_stats', 'jarque_bera_p_value'])\n",
    "\n",
    "for variable in variables:\n",
    "    jb_stats = jarque_bera(np.log(students[variable]+0.00001))\n",
    "    distribution_tests = distribution_tests.append({\"variable\": variable,\n",
    "                                                \"jarque_bera_stats\" : jb_stats[0] ,\n",
    "                                                \"jarque_bera_p_value\" : jb_stats[1]\n",
    "                                               }, ignore_index=True)\n",
    "distribution_tests\n"
   ]
  },
  {
   "cell_type": "code",
   "execution_count": 5,
   "metadata": {},
   "outputs": [
    {
     "data": {
      "image/png": "[encoded data removed]",
      "text/plain": [
       "<Figure size 1296x360 with 3 Axes>"
      ]
     },
     "metadata": {
      "needs_background": "light"
     },
     "output_type": "display_data"
    }
   ],
   "source": [
    "j=1\n",
    "plt.figure(figsize=(18,5))\n",
    "for var in variables: \n",
    "    plt.subplot(1,3,j)\n",
    "    plt.hist(np.log(students[var]+0.00001),color=\"green\")\n",
    "    plt.title(\"{}\".format(var), color=\"darkblue\",fontsize=16)\n",
    "    j=j+1"
   ]
  },
  {
   "cell_type": "markdown",
   "metadata": {},
   "source": [
    "**SQUARE ROOT TRANSFORMATION:**"
   ]
  },
  {
   "cell_type": "code",
   "execution_count": 6,
   "metadata": {},
   "outputs": [
    {
     "data": {
      "text/html": [
       "<div>\n",
       "<style scoped>\n",
       "    .dataframe tbody tr th:only-of-type {\n",
       "        vertical-align: middle;\n",
       "    }\n",
       "\n",
       "    .dataframe tbody tr th {\n",
       "        vertical-align: top;\n",
       "    }\n",
       "\n",
       "    .dataframe thead th {\n",
       "        text-align: right;\n",
       "    }\n",
       "</style>\n",
       "<table border=\"1\" class=\"dataframe\">\n",
       "  <thead>\n",
       "    <tr style=\"text-align: right;\">\n",
       "      <th></th>\n",
       "      <th>variable</th>\n",
       "      <th>jarque_bera_stats</th>\n",
       "      <th>jarque_bera_p_value</th>\n",
       "    </tr>\n",
       "  </thead>\n",
       "  <tbody>\n",
       "    <tr>\n",
       "      <th>0</th>\n",
       "      <td>math score</td>\n",
       "      <td>1233.47997</td>\n",
       "      <td>0.00000</td>\n",
       "    </tr>\n",
       "    <tr>\n",
       "      <th>1</th>\n",
       "      <td>reading score</td>\n",
       "      <td>88.00833</td>\n",
       "      <td>0.00000</td>\n",
       "    </tr>\n",
       "    <tr>\n",
       "      <th>2</th>\n",
       "      <td>writing score</td>\n",
       "      <td>141.63782</td>\n",
       "      <td>0.00000</td>\n",
       "    </tr>\n",
       "  </tbody>\n",
       "</table>\n",
       "</div>"
      ],
      "text/plain": [
       "        variable  jarque_bera_stats  jarque_bera_p_value\n",
       "0     math score         1233.47997              0.00000\n",
       "1  reading score           88.00833              0.00000\n",
       "2  writing score          141.63782              0.00000"
      ]
     },
     "execution_count": 6,
     "metadata": {},
     "output_type": "execute_result"
    }
   ],
   "source": [
    "distribution_tests = pd.DataFrame(columns=['variable', 'jarque_bera_stats', 'jarque_bera_p_value'])\n",
    "\n",
    "for variable in variables:\n",
    "    jb_stats = jarque_bera(np.sqrt(students[variable]))\n",
    "    distribution_tests = distribution_tests.append({\"variable\": variable,\n",
    "                                                \"jarque_bera_stats\" : jb_stats[0] ,\n",
    "                                                \"jarque_bera_p_value\" : jb_stats[1]\n",
    "                                               }, ignore_index=True)\n",
    "distribution_tests"
   ]
  },
  {
   "cell_type": "code",
   "execution_count": 7,
   "metadata": {},
   "outputs": [
    {
     "data": {
      "image/png": "[encoded data removed]",
      "text/plain": [
       "<Figure size 1296x360 with 3 Axes>"
      ]
     },
     "metadata": {
      "needs_background": "light"
     },
     "output_type": "display_data"
    }
   ],
   "source": [
    "j=1\n",
    "plt.figure(figsize=(18,5))\n",
    "for var in variables: \n",
    "    plt.subplot(1,3,j)\n",
    "    plt.hist(np.sqrt(students[var]),color=\"green\")\n",
    "    plt.title(\"{}\".format(var), color=\"darkblue\",fontsize=16)\n",
    "    j=j+1"
   ]
  },
  {
   "cell_type": "markdown",
   "metadata": {},
   "source": [
    "**INVERSE TRANSFORMATION:**"
   ]
  },
  {
   "cell_type": "code",
   "execution_count": 8,
   "metadata": {},
   "outputs": [
    {
     "data": {
      "text/html": [
       "<div>\n",
       "<style scoped>\n",
       "    .dataframe tbody tr th:only-of-type {\n",
       "        vertical-align: middle;\n",
       "    }\n",
       "\n",
       "    .dataframe tbody tr th {\n",
       "        vertical-align: top;\n",
       "    }\n",
       "\n",
       "    .dataframe thead th {\n",
       "        text-align: right;\n",
       "    }\n",
       "</style>\n",
       "<table border=\"1\" class=\"dataframe\">\n",
       "  <thead>\n",
       "    <tr style=\"text-align: right;\">\n",
       "      <th></th>\n",
       "      <th>variable</th>\n",
       "      <th>jarque_bera_stats</th>\n",
       "      <th>jarque_bera_p_value</th>\n",
       "    </tr>\n",
       "  </thead>\n",
       "  <tbody>\n",
       "    <tr>\n",
       "      <th>0</th>\n",
       "      <td>math score</td>\n",
       "      <td>41417291.49930</td>\n",
       "      <td>0.00000</td>\n",
       "    </tr>\n",
       "    <tr>\n",
       "      <th>1</th>\n",
       "      <td>reading score</td>\n",
       "      <td>14069.00268</td>\n",
       "      <td>0.00000</td>\n",
       "    </tr>\n",
       "    <tr>\n",
       "      <th>2</th>\n",
       "      <td>writing score</td>\n",
       "      <td>217089.12252</td>\n",
       "      <td>0.00000</td>\n",
       "    </tr>\n",
       "  </tbody>\n",
       "</table>\n",
       "</div>"
      ],
      "text/plain": [
       "        variable  jarque_bera_stats  jarque_bera_p_value\n",
       "0     math score     41417291.49930              0.00000\n",
       "1  reading score        14069.00268              0.00000\n",
       "2  writing score       217089.12252              0.00000"
      ]
     },
     "execution_count": 8,
     "metadata": {},
     "output_type": "execute_result"
    }
   ],
   "source": [
    "distribution_tests = pd.DataFrame(columns=['variable', 'jarque_bera_stats', 'jarque_bera_p_value'])\n",
    "\n",
    "for variable in variables:\n",
    "    jb_stats = jarque_bera(1/(students[variable]+0.00001))\n",
    "    distribution_tests = distribution_tests.append({\"variable\": variable,\n",
    "                                                \"jarque_bera_stats\" : jb_stats[0] ,\n",
    "                                                \"jarque_bera_p_value\" : jb_stats[1]\n",
    "                                               }, ignore_index=True)\n",
    "distribution_tests"
   ]
  },
  {
   "cell_type": "code",
   "execution_count": 9,
   "metadata": {},
   "outputs": [
    {
     "data": {
      "image/png": "[encoded data removed]",
      "text/plain": [
       "<Figure size 1296x360 with 3 Axes>"
      ]
     },
     "metadata": {
      "needs_background": "light"
     },
     "output_type": "display_data"
    }
   ],
   "source": [
    "j=1\n",
    "plt.figure(figsize=(18,5))\n",
    "for var in variables: \n",
    "    plt.subplot(1,3,j)\n",
    "    plt.hist((1/(students[var]+0.00001)),color=\"green\")\n",
    "    plt.title(\"{}\".format(var), color=\"darkblue\",fontsize=16)\n",
    "    j=j+1"
   ]
  },
  {
   "cell_type": "markdown",
   "metadata": {},
   "source": [
    "**(2)** We want to keep the three exam results in one variable, as the target variable. To do this, define a new variable containing the average of the three exams. Test whether the average of this new variable is normally distributed. If it does not have a normal distribution, try to make it normally distributed by transforming and test the result of the transformation."
   ]
  },
  {
   "cell_type": "code",
   "execution_count": 10,
   "metadata": {},
   "outputs": [
    {
     "data": {
      "text/html": [
       "<div>\n",
       "<style scoped>\n",
       "    .dataframe tbody tr th:only-of-type {\n",
       "        vertical-align: middle;\n",
       "    }\n",
       "\n",
       "    .dataframe tbody tr th {\n",
       "        vertical-align: top;\n",
       "    }\n",
       "\n",
       "    .dataframe thead th {\n",
       "        text-align: right;\n",
       "    }\n",
       "</style>\n",
       "<table border=\"1\" class=\"dataframe\">\n",
       "  <thead>\n",
       "    <tr style=\"text-align: right;\">\n",
       "      <th></th>\n",
       "      <th>gender</th>\n",
       "      <th>race/ethnicity</th>\n",
       "      <th>parental level of education</th>\n",
       "      <th>lunch</th>\n",
       "      <th>test preparation course</th>\n",
       "      <th>math score</th>\n",
       "      <th>reading score</th>\n",
       "      <th>writing score</th>\n",
       "      <th>mean score</th>\n",
       "    </tr>\n",
       "  </thead>\n",
       "  <tbody>\n",
       "    <tr>\n",
       "      <th>0</th>\n",
       "      <td>female</td>\n",
       "      <td>group B</td>\n",
       "      <td>bachelor's degree</td>\n",
       "      <td>standard</td>\n",
       "      <td>none</td>\n",
       "      <td>72</td>\n",
       "      <td>72</td>\n",
       "      <td>74</td>\n",
       "      <td>72.66667</td>\n",
       "    </tr>\n",
       "    <tr>\n",
       "      <th>1</th>\n",
       "      <td>female</td>\n",
       "      <td>group C</td>\n",
       "      <td>some college</td>\n",
       "      <td>standard</td>\n",
       "      <td>completed</td>\n",
       "      <td>69</td>\n",
       "      <td>90</td>\n",
       "      <td>88</td>\n",
       "      <td>82.33333</td>\n",
       "    </tr>\n",
       "    <tr>\n",
       "      <th>2</th>\n",
       "      <td>female</td>\n",
       "      <td>group B</td>\n",
       "      <td>master's degree</td>\n",
       "      <td>standard</td>\n",
       "      <td>none</td>\n",
       "      <td>90</td>\n",
       "      <td>95</td>\n",
       "      <td>93</td>\n",
       "      <td>92.66667</td>\n",
       "    </tr>\n",
       "    <tr>\n",
       "      <th>3</th>\n",
       "      <td>male</td>\n",
       "      <td>group A</td>\n",
       "      <td>associate's degree</td>\n",
       "      <td>free/reduced</td>\n",
       "      <td>none</td>\n",
       "      <td>47</td>\n",
       "      <td>57</td>\n",
       "      <td>44</td>\n",
       "      <td>49.33333</td>\n",
       "    </tr>\n",
       "    <tr>\n",
       "      <th>4</th>\n",
       "      <td>male</td>\n",
       "      <td>group C</td>\n",
       "      <td>some college</td>\n",
       "      <td>standard</td>\n",
       "      <td>none</td>\n",
       "      <td>76</td>\n",
       "      <td>78</td>\n",
       "      <td>75</td>\n",
       "      <td>76.33333</td>\n",
       "    </tr>\n",
       "  </tbody>\n",
       "</table>\n",
       "</div>"
      ],
      "text/plain": [
       "   gender race/ethnicity parental level of education         lunch  \\\n",
       "0  female        group B           bachelor's degree      standard   \n",
       "1  female        group C                some college      standard   \n",
       "2  female        group B             master's degree      standard   \n",
       "3    male        group A          associate's degree  free/reduced   \n",
       "4    male        group C                some college      standard   \n",
       "\n",
       "  test preparation course  math score  reading score  writing score  \\\n",
       "0                    none          72             72             74   \n",
       "1               completed          69             90             88   \n",
       "2                    none          90             95             93   \n",
       "3                    none          47             57             44   \n",
       "4                    none          76             78             75   \n",
       "\n",
       "   mean score  \n",
       "0    72.66667  \n",
       "1    82.33333  \n",
       "2    92.66667  \n",
       "3    49.33333  \n",
       "4    76.33333  "
      ]
     },
     "execution_count": 10,
     "metadata": {},
     "output_type": "execute_result"
    }
   ],
   "source": [
    "students['mean score']=students[variables].mean(axis=1)\n",
    "students.head()"
   ]
  },
  {
   "cell_type": "code",
   "execution_count": 11,
   "metadata": {},
   "outputs": [
    {
     "data": {
      "text/plain": [
       "Jarque_beraResult(statistic=15.453387913085164, pvalue=0.00044089934264401887)"
      ]
     },
     "metadata": {},
     "output_type": "display_data"
    },
    {
     "data": {
      "image/png": "[encoded data removed]",
      "text/plain": [
       "<Figure size 432x288 with 1 Axes>"
      ]
     },
     "metadata": {
      "needs_background": "light"
     },
     "output_type": "display_data"
    }
   ],
   "source": [
    "jb_stats = jarque_bera(students['mean score'])\n",
    "display(jb_stats)\n",
    "\n",
    "plt.hist(students['mean score'],color=\"green\")\n",
    "plt.title(\"Average of Exams\", color=\"darkblue\",fontsize=16);"
   ]
  },
  {
   "cell_type": "code",
   "execution_count": 12,
   "metadata": {},
   "outputs": [
    {
     "data": {
      "text/plain": [
       "Jarque_beraResult(statistic=2167.0393472287465, pvalue=0.0)"
      ]
     },
     "metadata": {},
     "output_type": "display_data"
    },
    {
     "data": {
      "image/png": "[encoded data removed]",
      "text/plain": [
       "<Figure size 432x288 with 1 Axes>"
      ]
     },
     "metadata": {
      "needs_background": "light"
     },
     "output_type": "display_data"
    }
   ],
   "source": [
    "##Log-Transformation:\n",
    "jb_stats = jarque_bera(np.log(students['mean score']))\n",
    "display(jb_stats)\n",
    "\n",
    "plt.hist(np.log(students['mean score']),color=\"green\")\n",
    "plt.title(\"Average of Exams\", color=\"darkblue\",fontsize=16);"
   ]
  },
  {
   "cell_type": "code",
   "execution_count": 13,
   "metadata": {},
   "outputs": [
    {
     "data": {
      "text/plain": [
       "Jarque_beraResult(statistic=606586.931895144, pvalue=0.0)"
      ]
     },
     "metadata": {},
     "output_type": "display_data"
    },
    {
     "data": {
      "image/png": "[encoded data removed]",
      "text/plain": [
       "<Figure size 432x288 with 1 Axes>"
      ]
     },
     "metadata": {
      "needs_background": "light"
     },
     "output_type": "display_data"
    }
   ],
   "source": [
    "##Inverse Transformation:\n",
    "jb_stats = jarque_bera(1/(students['mean score']))\n",
    "display(jb_stats)\n",
    "\n",
    "plt.hist(1/(students['mean score']),color=\"green\")\n",
    "plt.title(\"Average of Exams\", color=\"darkblue\",fontsize=16);"
   ]
  },
  {
   "cell_type": "code",
   "execution_count": 14,
   "metadata": {},
   "outputs": [
    {
     "data": {
      "text/plain": [
       "Jarque_beraResult(statistic=187.7135523631838, pvalue=0.0)"
      ]
     },
     "metadata": {},
     "output_type": "display_data"
    },
    {
     "data": {
      "image/png": "[encoded data removed]",
      "text/plain": [
       "<Figure size 432x288 with 1 Axes>"
      ]
     },
     "metadata": {
      "needs_background": "light"
     },
     "output_type": "display_data"
    }
   ],
   "source": [
    "##Square-Root Transformation:\n",
    "jb_stats = jarque_bera(np.sqrt(students['mean score']))\n",
    "display(jb_stats)\n",
    "\n",
    "plt.hist(np.sqrt(students['mean score']),color=\"green\")\n",
    "plt.title(\"Average of Exams\", color=\"darkblue\",fontsize=16);"
   ]
  },
  {
   "cell_type": "markdown",
   "metadata": {},
   "source": [
    "**(3)** Which variables seem to be related to the target variable we created in the previous question? If our goal was to explain the factors that determine the success of the exam, which variables should we keep in our data set?"
   ]
  },
  {
   "cell_type": "code",
   "execution_count": 15,
   "metadata": {},
   "outputs": [
    {
     "data": {
      "text/plain": [
       "Index(['gender', 'race/ethnicity', 'parental level of education', 'lunch',\n",
       "       'test preparation course'],\n",
       "      dtype='object')"
      ]
     },
     "execution_count": 15,
     "metadata": {},
     "output_type": "execute_result"
    }
   ],
   "source": [
    "students_cat=students.select_dtypes(include=['object'])\n",
    "students_cat.columns"
   ]
  },
  {
   "cell_type": "code",
   "execution_count": 16,
   "metadata": {},
   "outputs": [
    {
     "name": "stdout",
     "output_type": "stream",
     "text": [
      "The difference between the levels of gender in terms of Average of Exam Scores.\n",
      "                sum_sq         df         F   PR(>F)\n",
      "X          3477.472007   1.000000 17.388179 0.000033\n",
      "Residual 199590.600882 998.000000       nan      nan\n",
      "****************************************************************************************************\n",
      "The difference between the levels of race/ethnicity in terms of Average of Exam Scores.\n",
      "                sum_sq         df        F   PR(>F)\n",
      "X          7163.645895   4.000000 9.096052 0.000000\n",
      "Residual 195904.426994 995.000000      nan      nan\n",
      "****************************************************************************************************\n",
      "The difference between the levels of parental level of education in terms of Average of Exam Scores.\n",
      "                sum_sq         df         F   PR(>F)\n",
      "X         10420.367638   5.000000 10.753147 0.000000\n",
      "Residual 192647.705250 994.000000       nan      nan\n",
      "****************************************************************************************************\n",
      "The difference between the levels of lunch in terms of Average of Exam Scores.\n",
      "                sum_sq         df         F   PR(>F)\n",
      "X         17085.566225   1.000000 91.682790 0.000000\n",
      "Residual 185982.506664 998.000000       nan      nan\n",
      "****************************************************************************************************\n",
      "The difference between the levels of test preparation course in terms of Average of Exam Scores.\n",
      "                sum_sq         df         F   PR(>F)\n",
      "X         13382.160314   1.000000 70.407949 0.000000\n",
      "Residual 189685.912575 998.000000       nan      nan\n",
      "****************************************************************************************************\n"
     ]
    }
   ],
   "source": [
    "pd.options.display.float_format = '{:.6f}'.format\n",
    "\n",
    "for var in students_cat.columns:\n",
    "    \n",
    "    Y=students['mean score'] \n",
    "    X=students[var]\n",
    "   \n",
    "    model = ols('Y ~ X', data=students).fit()\n",
    "    anova_table = sm.stats.anova_lm(model, typ=2)\n",
    "    print('The difference between the levels of {} in terms of Average of Exam Scores.'.format(var))\n",
    "    print(anova_table)\n",
    "    print(\"****\"*25)\n"
   ]
  },
  {
   "cell_type": "code",
   "execution_count": 17,
   "metadata": {},
   "outputs": [
    {
     "data": {
      "image/png": "[encoded data removed]",
      "text/plain": [
       "<Figure size 1296x720 with 5 Axes>"
      ]
     },
     "metadata": {
      "needs_background": "light"
     },
     "output_type": "display_data"
    }
   ],
   "source": [
    "plt.figure(figsize=(18, 10))\n",
    "plt.subplot(2,3,1)\n",
    "plt.title('Average Exam Scores by Age',fontsize=16, color=\"green\")\n",
    "sns.barplot(x=students[\"gender\"], y=students[\"mean score\"],color = \"#FF914D\")\n",
    "plt.xlabel('Gender', fontsize=14, color=\"blue\")\n",
    "plt.ylabel('Average Exam Scores', fontsize=14, color=\"blue\")\n",
    "plt.xticks(rotation = 0, fontsize = 10)\n",
    "\n",
    "plt.subplot(2,3,2)\n",
    "plt.title('Average Exam Scores by Race',fontsize=16, color=\"green\")\n",
    "sns.barplot(x=students[\"race/ethnicity\"], y=students[\"mean score\"],color = \"#FF914D\")\n",
    "plt.xlabel('Race', fontsize=14, color=\"blue\")\n",
    "plt.ylabel('Average Exam Scores', fontsize=14, color=\"blue\")\n",
    "plt.xticks(rotation = 0, fontsize = 10)\n",
    "\n",
    "plt.subplot(2,3,3)\n",
    "plt.title('Average Exam Scores by Lunch Type',fontsize=16, color=\"green\")\n",
    "sns.barplot(x=students[\"lunch\"], y=students[\"mean score\"],color = \"#FF914D\")\n",
    "plt.xlabel('Lunch Type', fontsize=14, color=\"blue\")\n",
    "plt.ylabel('Average Exam Scores', fontsize=14, color=\"blue\")\n",
    "plt.xticks(rotation = 0, fontsize = 10)\n",
    "\n",
    "plt.subplot(2,3,4)\n",
    "plt.title('Average Exam Scores by Parental Education',fontsize=16, color=\"green\")\n",
    "sns.barplot(x=students[\"parental level of education\"], y=students[\"mean score\"],color = \"#FF914D\")\n",
    "plt.xlabel('Parental Level of Education', fontsize=14, color=\"blue\")\n",
    "plt.ylabel('Average Exam Scores', fontsize=14, color=\"blue\")\n",
    "plt.xticks(rotation = 45, fontsize = 10)\n",
    "\n",
    "plt.subplot(2,3,5)\n",
    "plt.title('Average Exam Scores by Preparation Course',fontsize=16, color=\"green\")\n",
    "sns.barplot(x=students[\"test preparation course\"], y=students[\"mean score\"],color = \"#FF914D\")\n",
    "plt.xlabel('Test Preparation Course', fontsize=14, color=\"blue\")\n",
    "plt.ylabel('Average Exam Scores', fontsize=14, color=\"blue\")\n",
    "plt.xticks(rotation = 0, fontsize = 10)\n",
    "\n",
    "plt.show()\n"
   ]
  },
  {
   "cell_type": "markdown",
   "metadata": {},
   "source": [
    "**Interpretation:**\n",
    "\n",
    "Considering all these, all variables might be used in explaining the success in the exams."
   ]
  },
  {
   "cell_type": "markdown",
   "metadata": {},
   "source": [
    "**(4)** Does the test preparation course have an impact on the target variable you created?"
   ]
  },
  {
   "cell_type": "markdown",
   "metadata": {},
   "source": [
    "Those who completed the test preparation course seem to be more successful than the others."
   ]
  }
 ],
 "metadata": {
  "kernelspec": {
   "display_name": "Python 3",
   "language": "python",
   "name": "python3"
  },
  "language_info": {
   "codemirror_mode": {
    "name": "ipython",
    "version": 3
   },
   "file_extension": ".py",
   "mimetype": "text/x-python",
   "name": "python",
   "nbconvert_exporter": "python",
   "pygments_lexer": "ipython3",
   "version": "3.8.3"
  }
 },
 "nbformat": 4,
 "nbformat_minor": 4
}
