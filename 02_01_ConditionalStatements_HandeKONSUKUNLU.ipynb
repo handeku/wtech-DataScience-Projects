{
 "cells": [
  {
   "cell_type": "markdown",
   "metadata": {},
   "source": [
    "# Assignments for \"Conditional Statements\""
   ]
  },
  {
   "cell_type": "markdown",
   "metadata": {},
   "source": [
    "1. Please get Celcius or Fahrenheit degrees from users and type a code to convert these heat units to each other.  \n",
    "    For conversion, please use this formula: C = (5/9) * (F - 32)\n",
    "    \n",
    "        Example : \"40C\" --> \"104F\"\n",
    "                  \"52F\" --> \"11.1C\""
   ]
  },
  {
   "cell_type": "code",
   "execution_count": 1,
   "metadata": {},
   "outputs": [
    {
     "name": "stdin",
     "output_type": "stream",
     "text": [
      "Please enter the temperature you like to convert? (e.g., 32C, 60F) :  40C\n"
     ]
    },
    {
     "name": "stdout",
     "output_type": "stream",
     "text": [
      "\"40C\" --> \"104.0F\"\n"
     ]
    }
   ],
   "source": [
    "temp = input(\"Please enter the temperature you like to convert? (e.g., 32C, 60F) : \")\n",
    "degree = int(temp[:-1])\n",
    "unit = temp[-1]\n",
    "degree = int(temp[:-1])\n",
    "unit = temp[-1]\n",
    "if unit==\"C\":\n",
    "    result=round((9*degree)/5+32,1)\n",
    "    print('\"{}\" --> \"{}F\"'.format(temp,result))\n",
    "elif unit==\"F\":\n",
    "    result=round((5/9)*(degree-32),1)\n",
    "    print('\"{}\" --> \"{}C\"'.format(temp,result))\n",
    "else: \n",
    "    print('\"Please enter the temperature value in accordance with the specified format\"')"
   ]
  },
  {
   "cell_type": "markdown",
   "metadata": {},
   "source": [
    "2. A company decided to give a bonus of 5% to the employees if his/her year of service is more than 5 years.\n",
    "Ask the user for their salary and year of service and print the net bonus amount."
   ]
  },
  {
   "cell_type": "code",
   "execution_count": 2,
   "metadata": {},
   "outputs": [
    {
     "name": "stdin",
     "output_type": "stream",
     "text": [
      "Please enter the year of service:  6\n",
      "Please enter your salary:  2500\n"
     ]
    },
    {
     "name": "stdout",
     "output_type": "stream",
     "text": [
      "You will get 125.0 net bonus amount.\n"
     ]
    }
   ],
   "source": [
    "year=float(input(\"Please enter the year of service: \"))\n",
    "if year>=5:\n",
    "    salary=float(input(\"Please enter your salary: \"))\n",
    "    bonus=0.05\n",
    "    bonus_amount=round(salary*bonus,1)\n",
    "    print(\"You will get {} net bonus amount.\".format(bonus_amount))"
   ]
  },
  {
   "cell_type": "markdown",
   "metadata": {},
   "source": [
    "3. Take input of ages of 3 people by the user and determine the oldest and youngest among them."
   ]
  },
  {
   "cell_type": "code",
   "execution_count": 3,
   "metadata": {},
   "outputs": [
    {
     "name": "stdin",
     "output_type": "stream",
     "text": [
      "Please enter the age of first person:  5\n",
      "Please enter the age of second person:  7\n",
      "Please enter the age of third person:  3\n"
     ]
    },
    {
     "name": "stdout",
     "output_type": "stream",
     "text": [
      "The oldest person is the second person.\n",
      "The youngest person is the third  person.\n"
     ]
    }
   ],
   "source": [
    "age1=float(input(\"Please enter the age of first person: \"))\n",
    "age2=float(input(\"Please enter the age of second person: \"))\n",
    "age3=float(input(\"Please enter the age of third person: \"))\n",
    "\n",
    "if (age1>age2) and (age1>age3):\n",
    "    print(\"The oldest person is the first person.\")\n",
    "elif (age1<age2) and (age1<age3):\n",
    "    print(\"The youngest person is the first person.\")\n",
    "    \n",
    "if (age2>age1) and (age2>age3):\n",
    "    print(\"The oldest person is the second person.\")  \n",
    "elif (age2<age1) and (age2<age3):\n",
    "    print(\"The youngest person is the second person.\")\n",
    "\n",
    "if (age3>age2) and (age3>age1):\n",
    "    print(\"The oldest person is the third person.\")\n",
    "elif (age3<age2) and (age3<age1):\n",
    "    print(\"The youngest person is the third  person.\")"
   ]
  },
  {
   "cell_type": "markdown",
   "metadata": {},
   "source": [
    "4. A student will not be allowed to attend to the exam if his / her attendance to classes is less than 75%. Take followings input from the user:\n",
    "    - Number of classes held,\n",
    "    - Number of classes attended.\n",
    "   \n",
    "    Then, print the percentage of classes attended and whether the student is allowed to attend in an exam or not."
   ]
  },
  {
   "cell_type": "code",
   "execution_count": 5,
   "metadata": {},
   "outputs": [
    {
     "name": "stdin",
     "output_type": "stream",
     "text": [
      "Please enter the number of classes held:  14\n",
      "Please enter the number of classes attended:  7\n"
     ]
    },
    {
     "name": "stdout",
     "output_type": "stream",
     "text": [
      "Your percentage of classes is 0.5.\n",
      "You are not allowed to attend in an exam!\n"
     ]
    }
   ],
   "source": [
    "held=int(input(\"Please enter the number of classes held: \"))\n",
    "attended=int(input(\"Please enter the number of classes attended: \"))\n",
    "percent=round(attended/held,2)\n",
    "print(\"Your percentage of classes is {}.\".format(percent))\n",
    "if percent>=0.75:\n",
    "    print(\"You are allowed to attend in an exam!\")\n",
    "else:\n",
    "    print(\"You are not allowed to attend in an exam!\")"
   ]
  },
  {
   "cell_type": "markdown",
   "metadata": {},
   "source": [
    "5. In this exercise, you will create a program that reads a letter of the alphabet from the user. According to the answer:\n",
    "\n",
    "    - If the user enters `a, e, i, o, u`, then your program should display a message indicating that the entered letter is a vowel.\n",
    "    - If the user enters `y`, then your program should display a message indicating that y is sometimes a vowel and sometimes a consonant.\n",
    "    - Otherwise, your program should display a message indicating that the letter is a consonant."
   ]
  },
  {
   "cell_type": "code",
   "execution_count": 6,
   "metadata": {},
   "outputs": [
    {
     "name": "stdin",
     "output_type": "stream",
     "text": [
      "Please enter a letter of the alphabet:  i\n"
     ]
    },
    {
     "name": "stdout",
     "output_type": "stream",
     "text": [
      "\"The letter you enter is a vowel.\"\n"
     ]
    }
   ],
   "source": [
    "letter=input(\"Please enter a letter of the alphabet: \")\n",
    "vowel=[\"a\",\"e\",\"i\",\"o\",\"u\"]\n",
    "if letter in vowel:\n",
    "    print('\"The letter you enter is a vowel.\"')\n",
    "elif letter==\"y\":\n",
    "    print('\"The letter you entered is sometimes a vowel and sometimes a consonant.\"')\n",
    "else:\n",
    "    print('\"The letter you enter is a consonant.\"')"
   ]
  }
 ],
 "metadata": {
  "kernelspec": {
   "display_name": "Python 3",
   "language": "python",
   "name": "python3"
  },
  "language_info": {
   "codemirror_mode": {
    "name": "ipython",
    "version": 3
   },
   "file_extension": ".py",
   "mimetype": "text/x-python",
   "name": "python",
   "nbconvert_exporter": "python",
   "pygments_lexer": "ipython3",
   "version": "3.8.3"
  }
 },
 "nbformat": 4,
 "nbformat_minor": 4
}
