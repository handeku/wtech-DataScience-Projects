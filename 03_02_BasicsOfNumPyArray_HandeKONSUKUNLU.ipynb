{
 "cells": [
  {
   "cell_type": "markdown",
   "metadata": {},
   "source": [
    "# <font color=blue>Assignments for \"basics of NumPy Array\"</font>"
   ]
  },
  {
   "cell_type": "markdown",
   "metadata": {},
   "source": [
    "1. Create 3 lists representing house features, each list containing 10 values. First one for squaremeter of house, second one for rooms and last one for price. Then, create an array combining these lists."
   ]
  },
  {
   "cell_type": "code",
   "execution_count": 1,
   "metadata": {},
   "outputs": [
    {
     "data": {
      "text/plain": [
       "array([[   120,     90,    150,    110,    115,    130,    120,     85,\n",
       "           100,    160],\n",
       "       [     4,      2,      5,      3,      3,      4,      3,      3,\n",
       "             4,      5],\n",
       "       [200000, 120000, 150000, 115000, 145000, 160000, 150000, 100000,\n",
       "        135000, 250000]])"
      ]
     },
     "execution_count": 1,
     "metadata": {},
     "output_type": "execute_result"
    }
   ],
   "source": [
    "import numpy as np\n",
    "sq_house=[120,90,150,110,115,130,120,85,100,160]\n",
    "room_house=[4,2,5,3,3,4,3,3,4,5]\n",
    "price_house=[200000,120000,150000,115000,145000,160000,150000,100000,135000,250000]\n",
    "House=np.array([sq_house,room_house,price_house])\n",
    "House"
   ]
  },
  {
   "cell_type": "markdown",
   "metadata": {},
   "source": [
    "2. Transpose the array you have created, so that every line can represent features of one house."
   ]
  },
  {
   "cell_type": "code",
   "execution_count": 2,
   "metadata": {},
   "outputs": [
    {
     "data": {
      "text/plain": [
       "array([[   120,      4, 200000],\n",
       "       [    90,      2, 120000],\n",
       "       [   150,      5, 150000],\n",
       "       [   110,      3, 115000],\n",
       "       [   115,      3, 145000],\n",
       "       [   130,      4, 160000],\n",
       "       [   120,      3, 150000],\n",
       "       [    85,      3, 100000],\n",
       "       [   100,      4, 135000],\n",
       "       [   160,      5, 250000]])"
      ]
     },
     "execution_count": 2,
     "metadata": {},
     "output_type": "execute_result"
    }
   ],
   "source": [
    "House.T"
   ]
  },
  {
   "cell_type": "markdown",
   "metadata": {},
   "source": [
    "3. Display the shape of the array and explain what it means."
   ]
  },
  {
   "cell_type": "code",
   "execution_count": 3,
   "metadata": {},
   "outputs": [
    {
     "data": {
      "text/plain": [
       "(10, 3)"
      ]
     },
     "execution_count": 3,
     "metadata": {},
     "output_type": "execute_result"
    }
   ],
   "source": [
    "House.T.shape"
   ]
  },
  {
   "cell_type": "code",
   "execution_count": 4,
   "metadata": {},
   "outputs": [
    {
     "name": "stdout",
     "output_type": "stream",
     "text": [
      "There is information for 10 houses in the dataset.\n",
      "There are 3 attributes of each house.\n"
     ]
    }
   ],
   "source": [
    "print(\"There is information for {} houses in the dataset.\".format(House.T.shape[0]))\n",
    "print(\"There are {} attributes of each house.\".format(House.T.shape[1]))"
   ]
  },
  {
   "cell_type": "markdown",
   "metadata": {},
   "source": [
    "4. Write a function that returns an array of ones with zeros where both row and column numbers are even. Sample array is below. Number of rows and columns will be entered as parameters.\n",
    "\n",
    "```python\n",
    "    shape(6 x 5) --> [[1   1   1   1   1]\n",
    "                      [1   0   1   0   1]\n",
    "                      [1   1   1   1   1]\n",
    "                      [1   0   1   0   1]\n",
    "                      [1   1   1   1   1]\n",
    "                      [1   0   1   0   1]]\n",
    "```"
   ]
  },
  {
   "cell_type": "code",
   "execution_count": 5,
   "metadata": {},
   "outputs": [
    {
     "data": {
      "text/plain": [
       "array([[1., 1., 1., 1., 1.],\n",
       "       [1., 0., 1., 0., 1.],\n",
       "       [1., 1., 1., 1., 1.],\n",
       "       [1., 0., 1., 0., 1.],\n",
       "       [1., 1., 1., 1., 1.],\n",
       "       [1., 0., 1., 0., 1.]])"
      ]
     },
     "execution_count": 5,
     "metadata": {},
     "output_type": "execute_result"
    }
   ],
   "source": [
    "array_=np.ones((6,5))\n",
    "array_\n",
    "for i in range(1,7):\n",
    "    for j in range(1,6):\n",
    "         if (i%2==0) and (j%2==0):\n",
    "            array_[i-1][j-1]=0\n",
    "array_"
   ]
  }
 ],
 "metadata": {
  "kernelspec": {
   "display_name": "Python 3",
   "language": "python",
   "name": "python3"
  },
  "language_info": {
   "codemirror_mode": {
    "name": "ipython",
    "version": 3
   },
   "file_extension": ".py",
   "mimetype": "text/x-python",
   "name": "python",
   "nbconvert_exporter": "python",
   "pygments_lexer": "ipython3",
   "version": "3.8.3"
  }
 },
 "nbformat": 4,
 "nbformat_minor": 4
}
