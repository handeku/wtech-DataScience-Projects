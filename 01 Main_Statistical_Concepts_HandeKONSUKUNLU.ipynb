{
 "cells": [
  {
   "cell_type": "markdown",
   "metadata": {},
   "source": [
    "# <font color=blue>Assignments for \"Main Statistical Concepts\"</font>"
   ]
  },
  {
   "cell_type": "markdown",
   "metadata": {},
   "source": [
    "Please upload your solutions to the following assignments as Jupyter Notebook to your GitHub account and share the GitHub link with the button below. You can talk to your mentor about the issues you have in mind or ask Slack at office time."
   ]
  },
  {
   "cell_type": "markdown",
   "metadata": {},
   "source": [
    "1. Analyze the central tendency and distribution measurements with the mathematical formula given above and the built-in codes available in python through 3 different data that you will generate using the numpy library !!!"
   ]
  },
  {
   "cell_type": "code",
   "execution_count": 1,
   "metadata": {},
   "outputs": [],
   "source": [
    "import numpy as np\n",
    "import pandas as pd\n",
    "import statistics"
   ]
  },
  {
   "cell_type": "markdown",
   "metadata": {},
   "source": [
    "## First Dataset Randomly Generated From Normal Distribution $ N (70,64) $"
   ]
  },
  {
   "cell_type": "code",
   "execution_count": 2,
   "metadata": {},
   "outputs": [
    {
     "data": {
      "text/plain": [
       "array([65.83777567, 75.56478319, 72.22972892, 62.25051619, 59.50591443,\n",
       "       78.39090004, 76.24759816, 71.38027398, 71.08268864, 84.61663467,\n",
       "       73.70281118, 57.53703162, 66.01923336, 66.21577464, 80.18218379,\n",
       "       58.87984303, 73.05817772, 48.3273155 , 68.10257045, 76.49039812,\n",
       "       78.78397042, 73.68584331, 69.56015287, 75.81894221, 65.20429172,\n",
       "       65.23809639, 52.12872395, 76.83733191, 66.39591757, 71.36054191,\n",
       "       81.12667462, 78.63574646, 63.40805362, 74.42267799, 80.61926744,\n",
       "       61.54207952, 61.02143432, 75.31188151, 68.35466793, 81.16045145,\n",
       "       56.7616322 , 71.04476651, 77.05445266, 68.47549407, 60.85988726,\n",
       "       74.22628619, 82.89653477, 76.11990728, 61.89331971, 79.46249129,\n",
       "       66.47663604, 74.1393726 , 67.44671206, 60.67239284, 71.00405979,\n",
       "       65.08867317, 55.20307689, 69.87295764, 63.36757268, 62.4691534 ,\n",
       "       68.97161223, 60.66587022, 61.29226663, 74.7366233 , 72.61213838,\n",
       "       71.66792237, 89.82896766, 77.47271121, 56.82254933, 58.98342346,\n",
       "       61.97813103, 84.04624955, 73.4560778 , 76.00696189, 66.16049976,\n",
       "       62.96588899, 63.25983023, 74.808465  , 75.26588045, 66.89691831,\n",
       "       70.02373566, 76.0258675 , 69.9822366 , 74.45901012, 82.54070639,\n",
       "       71.58949835, 71.81101256, 71.08860037, 68.49372861, 71.4132763 ,\n",
       "       67.7418144 , 78.93032367, 54.44970413, 70.02450875, 74.52109373,\n",
       "       68.07565518, 64.85531097, 62.04873517, 84.64474133, 83.33215027])"
      ]
     },
     "execution_count": 2,
     "metadata": {},
     "output_type": "execute_result"
    }
   ],
   "source": [
    "random1=np.random.normal(70,8,100)\n",
    "random1"
   ]
  },
  {
   "cell_type": "markdown",
   "metadata": {},
   "source": [
    "### Central Tendency Measurements for First Dataset:"
   ]
  },
  {
   "cell_type": "code",
   "execution_count": 3,
   "metadata": {},
   "outputs": [
    {
     "name": "stdout",
     "output_type": "stream",
     "text": [
      "The mean of 'First Dataset': 70.0472.\n",
      "The median of 'First Dataset': 71.0244.\n",
      "The mode of 'First Dataset': 65.8378.\n"
     ]
    }
   ],
   "source": [
    "print(\"The mean of 'First Dataset': {:06.4f}.\".format(np.mean(random1)))\n",
    "print(\"The median of 'First Dataset': {:06.4f}.\".format(np.median(random1)))\n",
    "print(\"The mode of 'First Dataset': {:06.4f}.\".format(statistics.mode(random1)))"
   ]
  },
  {
   "cell_type": "markdown",
   "metadata": {},
   "source": [
    "### Dispersion Measurements for First Dataset:"
   ]
  },
  {
   "cell_type": "code",
   "execution_count": 4,
   "metadata": {},
   "outputs": [
    {
     "name": "stdout",
     "output_type": "stream",
     "text": [
      "The variance of 'First Dataset': 63.6800.\n",
      "The standard deviation of 'First Dataset': 8.0202.\n",
      "The standard error of 'First Dataset': 0.8020.\n"
     ]
    }
   ],
   "source": [
    "print(\"The variance of 'First Dataset': {:06.4f}.\".format(np.var(random1)))\n",
    "print(\"The standard deviation of 'First Dataset': {:06.4f}.\".format(np.std(random1,ddof=1)))\n",
    "print(\"The standard error of 'First Dataset': {:06.4f}.\".format(np.std(random1,ddof=1)/np.sqrt(len(random1))))"
   ]
  },
  {
   "cell_type": "markdown",
   "metadata": {},
   "source": [
    "## Second Dataset Randomly Generated From Standart Normal Distibution $N(0,1)$"
   ]
  },
  {
   "cell_type": "code",
   "execution_count": 5,
   "metadata": {},
   "outputs": [
    {
     "data": {
      "text/plain": [
       "array([-1.57574784,  0.44784568, -1.60031068,  0.02834515,  1.48994528,\n",
       "        2.1687208 , -1.17824279, -1.41455316, -0.09698841,  2.15742078,\n",
       "       -0.31799928, -0.24406387, -1.16804031,  0.51269272, -1.46170203,\n",
       "        0.40850823,  0.85679995, -0.21656687, -1.30745953,  0.79735455,\n",
       "       -1.16646341,  0.53451372,  0.58664493,  0.03274597,  0.20966394,\n",
       "        0.90395688,  1.72220695, -0.03616256,  0.55718806, -1.40867551,\n",
       "       -1.03392822,  0.08165828, -0.0548478 , -0.46548554, -0.0129837 ,\n",
       "       -0.93239816, -0.0931089 , -0.3468375 , -0.56357655, -0.8112857 ,\n",
       "       -0.81284559, -0.55295482, -1.02665825,  1.75978433, -0.16041406,\n",
       "       -1.53770219,  0.89312112,  1.46235578,  2.5349063 , -2.50448268,\n",
       "        1.24325581,  0.7451526 , -0.916566  ,  0.04389756,  0.58712375,\n",
       "       -0.90063962,  0.37136124, -0.62783423, -0.57604874,  0.33371194,\n",
       "        0.40166743, -0.24704447, -0.50038222, -0.69644895,  0.63614213,\n",
       "        1.088595  ,  0.15828027,  0.79346857, -0.40946984,  0.99748747,\n",
       "       -0.55794011, -1.43785933,  1.08327169,  0.06124814,  1.1960161 ,\n",
       "       -0.45939961,  0.30875572,  0.25545978, -0.06963041, -0.14278251,\n",
       "        0.95845192,  2.03716423, -1.7871396 , -0.77332822,  0.45135641,\n",
       "       -0.70768067,  0.79309024, -1.31292298,  1.38583049, -0.01929871,\n",
       "        0.33758903, -1.07179692,  0.55327286,  1.83249937, -0.56931006,\n",
       "        0.27107166,  0.68894607, -0.21947844, -0.07590017, -1.35931077])"
      ]
     },
     "execution_count": 5,
     "metadata": {},
     "output_type": "execute_result"
    }
   ],
   "source": [
    "random2=np.random.normal(0,1,100)\n",
    "random2"
   ]
  },
  {
   "cell_type": "markdown",
   "metadata": {},
   "source": [
    "### Central Tendency Measurements for Second Dataset:"
   ]
  },
  {
   "cell_type": "code",
   "execution_count": 6,
   "metadata": {},
   "outputs": [
    {
     "name": "stdout",
     "output_type": "stream",
     "text": [
      "The mean of 'Second Dataset': 0.0022.\n",
      "The median of 'Second Dataset': -0.0277.\n",
      "The mode of 'Second Dataset': -1.5757.\n"
     ]
    }
   ],
   "source": [
    "print(\"The mean of 'Second Dataset': {:06.4f}.\".format(np.mean(random2)))\n",
    "print(\"The median of 'Second Dataset': {:06.4f}.\".format(np.median(random2)))\n",
    "print(\"The mode of 'Second Dataset': {:06.4f}.\".format(statistics.mode(random2)))"
   ]
  },
  {
   "cell_type": "markdown",
   "metadata": {},
   "source": [
    "### Dispersion Measurements for Second Dataset:"
   ]
  },
  {
   "cell_type": "code",
   "execution_count": 7,
   "metadata": {},
   "outputs": [
    {
     "name": "stdout",
     "output_type": "stream",
     "text": [
      "The variance of 'Second Dataset': 0.9833.\n",
      "The standard deviation of 'Second Dataset': 0.9966.\n",
      "The standard error of 'Second Dataset': 0.0997.\n"
     ]
    }
   ],
   "source": [
    "print(\"The variance of 'Second Dataset': {:06.4f}.\".format(np.var(random2)))\n",
    "print(\"The standard deviation of 'Second Dataset': {:06.4f}.\".format(np.std(random2,ddof=1)))\n",
    "print(\"The standard error of 'Second Dataset': {:06.4f}.\".format(np.std(random2,ddof=1)/np.sqrt(len(random2))))"
   ]
  },
  {
   "cell_type": "markdown",
   "metadata": {},
   "source": [
    "## Third Dataset Randomly Generated From Normal Distibution $𝑁(160,100)$"
   ]
  },
  {
   "cell_type": "code",
   "execution_count": 8,
   "metadata": {},
   "outputs": [
    {
     "data": {
      "text/plain": [
       "array([153, 163, 147, 157, 156, 155, 158, 156, 162, 175, 142, 157, 173,\n",
       "       174, 171, 163, 163, 147, 164, 166, 153, 156, 172, 164, 157, 170,\n",
       "       158, 176, 162, 151, 162, 165, 153, 161, 154, 161, 135, 150, 163,\n",
       "       155, 158, 159, 176, 138, 142, 170, 155, 172, 155, 166, 160, 155,\n",
       "       163, 156, 162, 157, 154, 178, 156, 144, 149, 164, 146, 163, 157,\n",
       "       154, 168, 164, 179, 136, 170, 153, 145, 161, 143, 187, 147, 174,\n",
       "       167, 155, 169, 168, 149, 165, 165, 152, 156, 160, 170, 154, 165,\n",
       "       162, 157, 153, 166, 147, 158, 179, 153, 140])"
      ]
     },
     "execution_count": 8,
     "metadata": {},
     "output_type": "execute_result"
    }
   ],
   "source": [
    "random3=np.round_(np.random.normal(160,10,100),0).astype(int)\n",
    "random3"
   ]
  },
  {
   "cell_type": "markdown",
   "metadata": {},
   "source": [
    "### Central Tendency Measurements for Third Dataset:"
   ]
  },
  {
   "cell_type": "code",
   "execution_count": 9,
   "metadata": {},
   "outputs": [
    {
     "name": "stdout",
     "output_type": "stream",
     "text": [
      "The mean of 'Third Dataset': 159.26.\n",
      "The median of 'Third Dataset': 158.00.\n",
      "The mode of 'Third Dataset': 153.00.\n"
     ]
    }
   ],
   "source": [
    "print(\"The mean of 'Third Dataset': {:04.2f}.\".format(np.mean(random3)))\n",
    "print(\"The median of 'Third Dataset': {:04.2f}.\".format(np.median(random3)))\n",
    "print(\"The mode of 'Third Dataset': {:04.2f}.\".format(statistics.mode(random3)))"
   ]
  },
  {
   "cell_type": "markdown",
   "metadata": {},
   "source": [
    "### Dispersion Measurements for Third Dataset:"
   ]
  },
  {
   "cell_type": "code",
   "execution_count": 10,
   "metadata": {},
   "outputs": [
    {
     "name": "stdout",
     "output_type": "stream",
     "text": [
      "The variance of 'Third Dataset': 100.51.\n",
      "The standard deviation of 'Third Dataset': 10.08.\n",
      "The standard error of 'Third Dataset': 1.01.\n"
     ]
    }
   ],
   "source": [
    "print(\"The variance of 'Third Dataset': {:04.2f}.\".format(np.var(random3)))\n",
    "print(\"The standard deviation of 'Third Dataset': {:02.2f}.\".format(np.std(random3,ddof=1)))\n",
    "print(\"The standard error of 'Third Dataset': {:04.2f}.\".format(np.std(random3,ddof=1)/np.sqrt(len(random3))))"
   ]
  }
 ],
 "metadata": {
  "kernelspec": {
   "display_name": "Python 3",
   "language": "python",
   "name": "python3"
  },
  "language_info": {
   "codemirror_mode": {
    "name": "ipython",
    "version": 3
   },
   "file_extension": ".py",
   "mimetype": "text/x-python",
   "name": "python",
   "nbconvert_exporter": "python",
   "pygments_lexer": "ipython3",
   "version": "3.8.3"
  }
 },
 "nbformat": 4,
 "nbformat_minor": 4
}
