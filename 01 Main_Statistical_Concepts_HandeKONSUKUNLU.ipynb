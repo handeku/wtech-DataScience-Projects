{
 "cells": [
  {
   "cell_type": "markdown",
   "metadata": {},
   "source": [
    "# <font color=blue>Assignments for \"Main Statistical Concepts\"</font>"
   ]
  },
  {
   "cell_type": "markdown",
   "metadata": {},
   "source": [
    "Please upload your solutions to the following assignments as Jupyter Notebook to your GitHub account and share the GitHub link with the button below. You can talk to your mentor about the issues you have in mind or ask Slack at office time."
   ]
  },
  {
   "cell_type": "markdown",
   "metadata": {},
   "source": [
    "1. Analyze the central tendency and distribution measurements with the mathematical formula given above and the built-in codes available in python through 3 different data that you will generate using the numpy library !!!"
   ]
  },
  {
   "cell_type": "code",
   "execution_count": 1,
   "metadata": {},
   "outputs": [],
   "source": [
    "import numpy as np\n",
    "import pandas as pd\n",
    "import statistics"
   ]
  },
  {
   "cell_type": "markdown",
   "metadata": {},
   "source": [
    "## First Dataset Randomly Generated From Normal Distribution $ N (70,64) $"
   ]
  },
  {
   "cell_type": "code",
   "execution_count": 2,
   "metadata": {},
   "outputs": [
    {
     "data": {
      "text/plain": [
       "array([70.20442977, 64.9391852 , 76.41694735, 67.42500796, 76.76154631,\n",
       "       76.56478667, 78.26214463, 82.57424752, 77.2679902 , 67.8018904 ,\n",
       "       75.1349688 , 79.15019266, 89.36971815, 68.14880449, 66.29961191,\n",
       "       78.34483464, 69.01334118, 83.67427899, 66.66268419, 62.22744829,\n",
       "       75.67441791, 72.90052218, 62.57915062, 89.50379565, 54.82345339,\n",
       "       70.10594895, 71.95286743, 78.07752347, 73.03571214, 68.50016081,\n",
       "       59.12961723, 55.16315408, 66.03166868, 64.24144346, 69.51952467,\n",
       "       51.24195729, 67.19815926, 67.08327195, 76.53667056, 78.08975106,\n",
       "       77.60387137, 73.33614014, 74.27900074, 83.28022581, 67.47766779,\n",
       "       65.44857406, 70.67474159, 64.01835789, 68.43062975, 75.31636009,\n",
       "       56.3303416 , 56.42018218, 56.25036297, 64.4644423 , 67.59184597,\n",
       "       63.1350751 , 79.1078899 , 69.62894947, 64.27824171, 62.47265783,\n",
       "       60.42909215, 56.79739285, 71.29113487, 65.69627006, 77.06292292,\n",
       "       58.04686033, 73.61823995, 62.12440258, 78.29290917, 58.80567015,\n",
       "       67.34479777, 66.96974115, 63.88024069, 86.6883333 , 62.66478472,\n",
       "       70.90034817, 73.15586716, 71.53814454, 71.40492139, 71.33562081,\n",
       "       69.73908529, 76.6711331 , 73.03460079, 67.00316653, 82.57442257,\n",
       "       69.42787518, 66.26663626, 66.89628874, 79.02410952, 61.80354549,\n",
       "       70.43465454, 80.72716426, 78.2018203 , 77.0195961 , 62.22931479,\n",
       "       70.70658283, 80.25276575, 67.22983339, 66.36864391, 62.19149652])"
      ]
     },
     "execution_count": 2,
     "metadata": {},
     "output_type": "execute_result"
    }
   ],
   "source": [
    "random1=np.random.normal(70,8,100)\n",
    "random1"
   ]
  },
  {
   "cell_type": "markdown",
   "metadata": {},
   "source": [
    "### Central Tendency Measurements for First Dataset:"
   ]
  },
  {
   "cell_type": "code",
   "execution_count": 3,
   "metadata": {},
   "outputs": [
    {
     "name": "stdout",
     "output_type": "stream",
     "text": [
      "The mean of 'First Dataset': 70.0303.\n",
      "The mean of 'First Dataset': 69.5742.\n",
      "The mean of 'First Dataset': 70.2044.\n"
     ]
    }
   ],
   "source": [
    "print(\"The mean of 'First Dataset': {:06.4f}.\".format(np.mean(random1)))\n",
    "print(\"The mean of 'First Dataset': {:06.4f}.\".format(np.median(random1)))\n",
    "print(\"The mean of 'First Dataset': {:06.4f}.\".format(statistics.mode(random1)))"
   ]
  },
  {
   "cell_type": "markdown",
   "metadata": {},
   "source": [
    "### Dispersion Measurements for First Dataset:"
   ]
  },
  {
   "cell_type": "code",
   "execution_count": 4,
   "metadata": {},
   "outputs": [
    {
     "name": "stdout",
     "output_type": "stream",
     "text": [
      "The variance of 'First Dataset': 61.2656.\n",
      "The standard deviation of 'First Dataset': 7.8667.\n",
      "The standard error of 'First Dataset': 0.7867.\n"
     ]
    }
   ],
   "source": [
    "print(\"The variance of 'First Dataset': {:06.4f}.\".format(np.var(random1)))\n",
    "print(\"The standard deviation of 'First Dataset': {:06.4f}.\".format(np.std(random1,ddof=1)))\n",
    "print(\"The standard error of 'First Dataset': {:06.4f}.\".format(np.std(random1,ddof=1)/np.sqrt(len(random1))))"
   ]
  },
  {
   "cell_type": "markdown",
   "metadata": {},
   "source": [
    "## Second Dataset Randomly Generated From Standart Normal Distibution $N(0,1)$"
   ]
  },
  {
   "cell_type": "code",
   "execution_count": 5,
   "metadata": {},
   "outputs": [
    {
     "data": {
      "text/plain": [
       "array([-1.58058018,  1.13500298,  0.02235504, -1.72417315, -1.43446756,\n",
       "       -0.14676137, -0.3662397 , -0.53815236, -0.69839863,  2.03451593,\n",
       "        0.36343125,  0.475002  ,  0.90906532, -0.83603775,  0.68909451,\n",
       "       -0.3872205 ,  0.59960479, -1.03378274, -0.53984835,  0.38544946,\n",
       "        0.51959353, -0.28954784, -0.20144749, -0.6649099 ,  0.69275806,\n",
       "        1.64391575, -1.04523087,  0.12332721,  1.2920754 , -0.6505399 ,\n",
       "        0.18288802, -0.32648652,  1.15614193, -0.74265966, -1.51354615,\n",
       "        0.82115923,  0.32634147,  0.18113006,  1.23950623, -0.76742613,\n",
       "        0.06918875,  1.10891753,  0.46286745,  1.42848317,  0.76765936,\n",
       "        1.43221823, -1.57714601, -0.60405958, -1.82176751, -0.37732881,\n",
       "        0.4224099 ,  1.07268845,  0.81103338,  1.26408747, -0.91541731,\n",
       "        1.96472348, -0.05516717, -1.00084832, -1.19614428, -0.70917861,\n",
       "       -0.72958006, -0.4262067 , -0.56121006,  1.08761616, -1.15682338,\n",
       "        0.78027241, -0.91236397,  0.6953636 , -0.01669761,  2.24922454,\n",
       "        0.09682387, -0.67626097,  0.18879858, -1.14211483,  0.11751158,\n",
       "        0.74362604,  0.4910648 ,  0.21873079,  1.51698421, -0.12432011,\n",
       "        1.40606165,  1.07534746, -0.36490188,  0.17526738, -1.37254482,\n",
       "       -1.03429133, -0.31904374, -1.52886586,  0.36511937, -0.17412557,\n",
       "       -1.12614861, -0.82592756,  1.14090642,  0.86882592,  0.02680972,\n",
       "        0.17999903, -0.65107517,  0.21432767,  0.42658401,  0.39701747])"
      ]
     },
     "execution_count": 5,
     "metadata": {},
     "output_type": "execute_result"
    }
   ],
   "source": [
    "random2=np.random.normal(0,1,100)\n",
    "random2"
   ]
  },
  {
   "cell_type": "markdown",
   "metadata": {},
   "source": [
    "### Central Tendency Measurements for Second Dataset:"
   ]
  },
  {
   "cell_type": "code",
   "execution_count": 6,
   "metadata": {},
   "outputs": [
    {
     "name": "stdout",
     "output_type": "stream",
     "text": [
      "The mean of 'Second Dataset': 0.0317.\n",
      "The mean of 'Second Dataset': 0.0830.\n",
      "The mean of 'Second Dataset': -1.5806.\n"
     ]
    }
   ],
   "source": [
    "print(\"The mean of 'Second Dataset': {:06.4f}.\".format(np.mean(random2)))\n",
    "print(\"The mean of 'Second Dataset': {:06.4f}.\".format(np.median(random2)))\n",
    "print(\"The mean of 'Second Dataset': {:06.4f}.\".format(statistics.mode(random2)))"
   ]
  },
  {
   "cell_type": "markdown",
   "metadata": {},
   "source": [
    "### Dispersion Measurements for Second Dataset:"
   ]
  },
  {
   "cell_type": "code",
   "execution_count": 7,
   "metadata": {},
   "outputs": [
    {
     "name": "stdout",
     "output_type": "stream",
     "text": [
      "The variance of 'Second Dataset': 0.8552.\n",
      "The standard deviation of 'Second Dataset': 0.9294.\n",
      "The standard error of 'Second Dataset': 0.0929.\n"
     ]
    }
   ],
   "source": [
    "print(\"The variance of 'Second Dataset': {:06.4f}.\".format(np.var(random2)))\n",
    "print(\"The standard deviation of 'Second Dataset': {:06.4f}.\".format(np.std(random2,ddof=1)))\n",
    "print(\"The standard error of 'Second Dataset': {:06.4f}.\".format(np.std(random2,ddof=1)/np.sqrt(len(random2))))"
   ]
  },
  {
   "cell_type": "markdown",
   "metadata": {},
   "source": [
    "## Third Dataset Randomly Generated From Normal Distibution $𝑁(160,100)$"
   ]
  },
  {
   "cell_type": "code",
   "execution_count": 8,
   "metadata": {},
   "outputs": [
    {
     "data": {
      "text/plain": [
       "array([159, 167, 145, 159, 152, 148, 158, 150, 162, 163, 150, 164, 161,\n",
       "       160, 158, 163, 141, 166, 151, 170, 167, 164, 155, 156, 168, 159,\n",
       "       162, 155, 166, 160, 137, 157, 157, 162, 172, 163, 158, 173, 163,\n",
       "       150, 156, 185, 173, 151, 166, 153, 164, 158, 160, 174, 163, 154,\n",
       "       174, 180, 176, 166, 163, 157, 157, 160, 176, 145, 175, 163, 153,\n",
       "       155, 159, 162, 166, 166, 153, 165, 160, 173, 139, 161, 159, 173,\n",
       "       187, 171, 156, 155, 160, 158, 174, 176, 157, 150, 159, 170, 174,\n",
       "       151, 155, 163, 174, 155, 165, 173, 171, 185])"
      ]
     },
     "execution_count": 8,
     "metadata": {},
     "output_type": "execute_result"
    }
   ],
   "source": [
    "random3=np.round_(np.random.normal(160,10,100),0).astype(int)\n",
    "random3"
   ]
  },
  {
   "cell_type": "markdown",
   "metadata": {},
   "source": [
    "### Central Tendency Measurements for Third Dataset:"
   ]
  },
  {
   "cell_type": "code",
   "execution_count": 9,
   "metadata": {},
   "outputs": [
    {
     "name": "stdout",
     "output_type": "stream",
     "text": [
      "The mean of 'Third Dataset': 161.83.\n",
      "The mean of 'Third Dataset': 161.00.\n",
      "The mean of 'Third Dataset': 163.00.\n"
     ]
    }
   ],
   "source": [
    "print(\"The mean of 'Third Dataset': {:04.2f}.\".format(np.mean(random3)))\n",
    "print(\"The mean of 'Third Dataset': {:04.2f}.\".format(np.median(random3)))\n",
    "print(\"The mean of 'Third Dataset': {:04.2f}.\".format(statistics.mode(random3)))"
   ]
  },
  {
   "cell_type": "markdown",
   "metadata": {},
   "source": [
    "### Dispersion Measurements for Third Dataset:"
   ]
  },
  {
   "cell_type": "code",
   "execution_count": 10,
   "metadata": {},
   "outputs": [
    {
     "name": "stdout",
     "output_type": "stream",
     "text": [
      "The variance of 'Third Dataset': 90.98.\n",
      "The standard deviation of 'Third Dataset': 9.59.\n",
      "The standard error of 'Third Dataset': 0.96.\n"
     ]
    }
   ],
   "source": [
    "print(\"The variance of 'Third Dataset': {:04.2f}.\".format(np.var(random3)))\n",
    "print(\"The standard deviation of 'Third Dataset': {:02.2f}.\".format(np.std(random3,ddof=1)))\n",
    "print(\"The standard error of 'Third Dataset': {:04.2f}.\".format(np.std(random3,ddof=1)/np.sqrt(len(random3))))"
   ]
  }
 ],
 "metadata": {
  "kernelspec": {
   "display_name": "Python 3",
   "language": "python",
   "name": "python3"
  },
  "language_info": {
   "codemirror_mode": {
    "name": "ipython",
    "version": 3
   },
   "file_extension": ".py",
   "mimetype": "text/x-python",
   "name": "python",
   "nbconvert_exporter": "python",
   "pygments_lexer": "ipython3",
   "version": "3.8.3"
  }
 },
 "nbformat": 4,
 "nbformat_minor": 4
}
