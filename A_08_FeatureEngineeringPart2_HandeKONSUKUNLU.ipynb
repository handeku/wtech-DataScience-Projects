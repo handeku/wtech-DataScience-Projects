{
 "cells": [
  {
   "cell_type": "markdown",
   "metadata": {},
   "source": [
    "# <font color=blue>Assignments for \"Feature Engineering - Part 2\"</font>"
   ]
  },
  {
   "cell_type": "markdown",
   "metadata": {},
   "source": [
    "In this assignment, you are going to use a dataset related to the US education system. Please download the ([dataset](https://www.kaggle.com/noriuk/us-education-datasets-unification-project/home)) from Kaggle. You are going to use `states_all.csv` within this dataset.\n",
    "\n",
    "To complete this assignment, submit the Github link of the Jupyter notebook file containing solutions to the questions below. You can talk to your mentor on your head or ask Slack at office time.\n"
   ]
  },
  {
   "cell_type": "code",
   "execution_count": 1,
   "metadata": {},
   "outputs": [],
   "source": [
    "import matplotlib.pyplot as plt\n",
    "import seaborn as sns\n",
    "import numpy as np\n",
    "import pandas as pd\n",
    "import seaborn as sns\n",
    "import scipy.stats as stats\n",
    "from scipy.stats.mstats import winsorize\n",
    "from statsmodels.formula.api import ols\n",
    "import statsmodels.api as sm\n",
    "from sqlalchemy import create_engine\n",
    "from scipy.stats import jarque_bera\n",
    "from sklearn.decomposition import PCA\n",
    "from sklearn.preprocessing import StandardScaler\n",
    "import warnings"
   ]
  },
  {
   "cell_type": "code",
   "execution_count": 2,
   "metadata": {},
   "outputs": [],
   "source": [
    "states = pd.read_csv(\"../../data/EDA/states_all.csv\",parse_dates=['YEAR'])"
   ]
  },
  {
   "cell_type": "code",
   "execution_count": 3,
   "metadata": {},
   "outputs": [],
   "source": [
    "var_null=states.isnull().sum()\n",
    "var_missing=var_null[var_null!=0].index\n",
    "\n",
    "states_median_imputation=states.copy()\n",
    "\n",
    "for i in range(0,(len(var_missing))): \n",
    "    states_median_imputation[var_missing[i]].fillna(states_median_imputation[var_missing[i]].median(),inplace=True)"
   ]
  },
  {
   "cell_type": "markdown",
   "metadata": {},
   "source": [
    "**(1)** Create a variable that contains the weighted average of the grades in the dataset. The number of students in the fourth grade is different from that of the eighth grade. So you will need a weighted average!"
   ]
  },
  {
   "cell_type": "code",
   "execution_count": 4,
   "metadata": {},
   "outputs": [],
   "source": [
    "states_median_imputation[\"mean_score\"] = (states_median_imputation[\"GRADES_4_G\"]* \n",
    "                                 ((states_median_imputation[\"AVG_MATH_4_SCORE\"] + states_median_imputation[\"AVG_READING_4_SCORE\"]) * 0.5) + \n",
    "                                 states_median_imputation[\"GRADES_8_G\"]\n",
    "                                 * ((states_median_imputation[\"AVG_MATH_8_SCORE\"] + \n",
    "                                     states_median_imputation[\"AVG_READING_8_SCORE\"]) * \n",
    "                                    0.5))/ (states_median_imputation[\"GRADES_4_G\"] + states_median_imputation[\"GRADES_8_G\"])"
   ]
  },
  {
   "cell_type": "markdown",
   "metadata": {},
   "source": [
    "**(2)** What is the correlation between the variable you just created and the types of expenditures? Which expenditure item has more correlation than others?"
   ]
  },
  {
   "cell_type": "code",
   "execution_count": 5,
   "metadata": {},
   "outputs": [
    {
     "data": {
      "text/html": [
       "<div>\n",
       "<style scoped>\n",
       "    .dataframe tbody tr th:only-of-type {\n",
       "        vertical-align: middle;\n",
       "    }\n",
       "\n",
       "    .dataframe tbody tr th {\n",
       "        vertical-align: top;\n",
       "    }\n",
       "\n",
       "    .dataframe thead th {\n",
       "        text-align: right;\n",
       "    }\n",
       "</style>\n",
       "<table border=\"1\" class=\"dataframe\">\n",
       "  <thead>\n",
       "    <tr style=\"text-align: right;\">\n",
       "      <th></th>\n",
       "      <th>mean_score</th>\n",
       "      <th>TOTAL_EXPENDITURE</th>\n",
       "      <th>INSTRUCTION_EXPENDITURE</th>\n",
       "      <th>SUPPORT_SERVICES_EXPENDITURE</th>\n",
       "      <th>OTHER_EXPENDITURE</th>\n",
       "      <th>CAPITAL_OUTLAY_EXPENDITURE</th>\n",
       "    </tr>\n",
       "  </thead>\n",
       "  <tbody>\n",
       "    <tr>\n",
       "      <th>mean_score</th>\n",
       "      <td>1.000000</td>\n",
       "      <td>0.039933</td>\n",
       "      <td>0.047468</td>\n",
       "      <td>0.043488</td>\n",
       "      <td>-0.000882</td>\n",
       "      <td>-0.010094</td>\n",
       "    </tr>\n",
       "    <tr>\n",
       "      <th>TOTAL_EXPENDITURE</th>\n",
       "      <td>0.039933</td>\n",
       "      <td>1.000000</td>\n",
       "      <td>0.991571</td>\n",
       "      <td>0.993475</td>\n",
       "      <td>0.943541</td>\n",
       "      <td>0.933904</td>\n",
       "    </tr>\n",
       "    <tr>\n",
       "      <th>INSTRUCTION_EXPENDITURE</th>\n",
       "      <td>0.047468</td>\n",
       "      <td>0.991571</td>\n",
       "      <td>1.000000</td>\n",
       "      <td>0.977511</td>\n",
       "      <td>0.907780</td>\n",
       "      <td>0.898410</td>\n",
       "    </tr>\n",
       "    <tr>\n",
       "      <th>SUPPORT_SERVICES_EXPENDITURE</th>\n",
       "      <td>0.043488</td>\n",
       "      <td>0.993475</td>\n",
       "      <td>0.977511</td>\n",
       "      <td>1.000000</td>\n",
       "      <td>0.949709</td>\n",
       "      <td>0.919539</td>\n",
       "    </tr>\n",
       "    <tr>\n",
       "      <th>OTHER_EXPENDITURE</th>\n",
       "      <td>-0.000882</td>\n",
       "      <td>0.943541</td>\n",
       "      <td>0.907780</td>\n",
       "      <td>0.949709</td>\n",
       "      <td>1.000000</td>\n",
       "      <td>0.921472</td>\n",
       "    </tr>\n",
       "    <tr>\n",
       "      <th>CAPITAL_OUTLAY_EXPENDITURE</th>\n",
       "      <td>-0.010094</td>\n",
       "      <td>0.933904</td>\n",
       "      <td>0.898410</td>\n",
       "      <td>0.919539</td>\n",
       "      <td>0.921472</td>\n",
       "      <td>1.000000</td>\n",
       "    </tr>\n",
       "  </tbody>\n",
       "</table>\n",
       "</div>"
      ],
      "text/plain": [
       "                              mean_score  TOTAL_EXPENDITURE  \\\n",
       "mean_score                      1.000000           0.039933   \n",
       "TOTAL_EXPENDITURE               0.039933           1.000000   \n",
       "INSTRUCTION_EXPENDITURE         0.047468           0.991571   \n",
       "SUPPORT_SERVICES_EXPENDITURE    0.043488           0.993475   \n",
       "OTHER_EXPENDITURE              -0.000882           0.943541   \n",
       "CAPITAL_OUTLAY_EXPENDITURE     -0.010094           0.933904   \n",
       "\n",
       "                              INSTRUCTION_EXPENDITURE  \\\n",
       "mean_score                                   0.047468   \n",
       "TOTAL_EXPENDITURE                            0.991571   \n",
       "INSTRUCTION_EXPENDITURE                      1.000000   \n",
       "SUPPORT_SERVICES_EXPENDITURE                 0.977511   \n",
       "OTHER_EXPENDITURE                            0.907780   \n",
       "CAPITAL_OUTLAY_EXPENDITURE                   0.898410   \n",
       "\n",
       "                              SUPPORT_SERVICES_EXPENDITURE  OTHER_EXPENDITURE  \\\n",
       "mean_score                                        0.043488          -0.000882   \n",
       "TOTAL_EXPENDITURE                                 0.993475           0.943541   \n",
       "INSTRUCTION_EXPENDITURE                           0.977511           0.907780   \n",
       "SUPPORT_SERVICES_EXPENDITURE                      1.000000           0.949709   \n",
       "OTHER_EXPENDITURE                                 0.949709           1.000000   \n",
       "CAPITAL_OUTLAY_EXPENDITURE                        0.919539           0.921472   \n",
       "\n",
       "                              CAPITAL_OUTLAY_EXPENDITURE  \n",
       "mean_score                                     -0.010094  \n",
       "TOTAL_EXPENDITURE                               0.933904  \n",
       "INSTRUCTION_EXPENDITURE                         0.898410  \n",
       "SUPPORT_SERVICES_EXPENDITURE                    0.919539  \n",
       "OTHER_EXPENDITURE                               0.921472  \n",
       "CAPITAL_OUTLAY_EXPENDITURE                      1.000000  "
      ]
     },
     "execution_count": 5,
     "metadata": {},
     "output_type": "execute_result"
    }
   ],
   "source": [
    "states_median_imputation[[\"mean_score\", \"TOTAL_EXPENDITURE\", \"INSTRUCTION_EXPENDITURE\",\n",
    "              \"SUPPORT_SERVICES_EXPENDITURE\", \"OTHER_EXPENDITURE\", \"CAPITAL_OUTLAY_EXPENDITURE\"]].corr()"
   ]
  },
  {
   "cell_type": "markdown",
   "metadata": {},
   "source": [
    "The most correlated variable with the overall score is the instruction expenditure."
   ]
  },
  {
   "cell_type": "markdown",
   "metadata": {},
   "source": [
    "**(3)** Now apply the Principal Components Analysis (PCA) for the four expenditure items! How much of the total variance can be explained by the first component?"
   ]
  },
  {
   "cell_type": "code",
   "execution_count": 6,
   "metadata": {},
   "outputs": [],
   "source": [
    "X = states_median_imputation[[\"INSTRUCTION_EXPENDITURE\", \"SUPPORT_SERVICES_EXPENDITURE\",\n",
    "                  \"OTHER_EXPENDITURE\", \"CAPITAL_OUTLAY_EXPENDITURE\"]]\n",
    "\n",
    "X = StandardScaler().fit_transform(X)\n",
    "pca = PCA()\n",
    "principalComponents=pca.fit_transform(X)"
   ]
  },
  {
   "cell_type": "code",
   "execution_count": 7,
   "metadata": {},
   "outputs": [
    {
     "name": "stdout",
     "output_type": "stream",
     "text": [
      "[0.94690205 0.02999931 0.01953914 0.0035595 ]\n",
      "[ 94.69  97.69  99.64 100.  ]\n",
      "The percentage of total variance in the dataset explained by the first component is 0.9469020470223894\n"
     ]
    }
   ],
   "source": [
    "exp_var= pca.explained_variance_ratio_\n",
    "cumsum_var=np.cumsum(np.round(pca.explained_variance_ratio_, decimals=4)*100)\n",
    "print(exp_var)\n",
    "print(cumsum_var)\n",
    "\n",
    "print('The percentage of total variance in the dataset explained by the first component is', exp_var[0])"
   ]
  },
  {
   "cell_type": "markdown",
   "metadata": {},
   "source": [
    "**(4)** What is the correlation between the GPA you created and the first principal component?"
   ]
  },
  {
   "cell_type": "code",
   "execution_count": 8,
   "metadata": {},
   "outputs": [
    {
     "data": {
      "text/html": [
       "<div>\n",
       "<style scoped>\n",
       "    .dataframe tbody tr th:only-of-type {\n",
       "        vertical-align: middle;\n",
       "    }\n",
       "\n",
       "    .dataframe tbody tr th {\n",
       "        vertical-align: top;\n",
       "    }\n",
       "\n",
       "    .dataframe thead th {\n",
       "        text-align: right;\n",
       "    }\n",
       "</style>\n",
       "<table border=\"1\" class=\"dataframe\">\n",
       "  <thead>\n",
       "    <tr style=\"text-align: right;\">\n",
       "      <th></th>\n",
       "      <th>mean_score</th>\n",
       "      <th>PC1</th>\n",
       "    </tr>\n",
       "  </thead>\n",
       "  <tbody>\n",
       "    <tr>\n",
       "      <th>mean_score</th>\n",
       "      <td>1.00000</td>\n",
       "      <td>0.02075</td>\n",
       "    </tr>\n",
       "    <tr>\n",
       "      <th>PC1</th>\n",
       "      <td>0.02075</td>\n",
       "      <td>1.00000</td>\n",
       "    </tr>\n",
       "  </tbody>\n",
       "</table>\n",
       "</div>"
      ],
      "text/plain": [
       "            mean_score      PC1\n",
       "mean_score     1.00000  0.02075\n",
       "PC1            0.02075  1.00000"
      ]
     },
     "execution_count": 8,
     "metadata": {},
     "output_type": "execute_result"
    }
   ],
   "source": [
    "states_median_imputation['PC1']=principalComponents[:,0]\n",
    "\n",
    "states_median_imputation[[\"mean_score\",\"PC1\"]].corr()"
   ]
  },
  {
   "cell_type": "markdown",
   "metadata": {},
   "source": [
    "**(5)** When you need to choose the most appropriate variables for your model, would you prefer the first basic variables instead of the expenditure items? Why?"
   ]
  },
  {
   "cell_type": "code",
   "execution_count": 9,
   "metadata": {},
   "outputs": [
    {
     "data": {
      "text/html": [
       "<div>\n",
       "<style scoped>\n",
       "    .dataframe tbody tr th:only-of-type {\n",
       "        vertical-align: middle;\n",
       "    }\n",
       "\n",
       "    .dataframe tbody tr th {\n",
       "        vertical-align: top;\n",
       "    }\n",
       "\n",
       "    .dataframe thead th {\n",
       "        text-align: right;\n",
       "    }\n",
       "</style>\n",
       "<table border=\"1\" class=\"dataframe\">\n",
       "  <thead>\n",
       "    <tr style=\"text-align: right;\">\n",
       "      <th></th>\n",
       "      <th>mean_score</th>\n",
       "      <th>PC1</th>\n",
       "      <th>TOTAL_EXPENDITURE</th>\n",
       "      <th>INSTRUCTION_EXPENDITURE</th>\n",
       "      <th>SUPPORT_SERVICES_EXPENDITURE</th>\n",
       "      <th>OTHER_EXPENDITURE</th>\n",
       "      <th>CAPITAL_OUTLAY_EXPENDITURE</th>\n",
       "    </tr>\n",
       "  </thead>\n",
       "  <tbody>\n",
       "    <tr>\n",
       "      <th>mean_score</th>\n",
       "      <td>1.000000</td>\n",
       "      <td>0.020750</td>\n",
       "      <td>0.039933</td>\n",
       "      <td>0.047468</td>\n",
       "      <td>0.043488</td>\n",
       "      <td>-0.000882</td>\n",
       "      <td>-0.010094</td>\n",
       "    </tr>\n",
       "    <tr>\n",
       "      <th>PC1</th>\n",
       "      <td>0.020750</td>\n",
       "      <td>1.000000</td>\n",
       "      <td>0.992502</td>\n",
       "      <td>0.972333</td>\n",
       "      <td>0.988534</td>\n",
       "      <td>0.970889</td>\n",
       "      <td>0.960392</td>\n",
       "    </tr>\n",
       "    <tr>\n",
       "      <th>TOTAL_EXPENDITURE</th>\n",
       "      <td>0.039933</td>\n",
       "      <td>0.992502</td>\n",
       "      <td>1.000000</td>\n",
       "      <td>0.991571</td>\n",
       "      <td>0.993475</td>\n",
       "      <td>0.943541</td>\n",
       "      <td>0.933904</td>\n",
       "    </tr>\n",
       "    <tr>\n",
       "      <th>INSTRUCTION_EXPENDITURE</th>\n",
       "      <td>0.047468</td>\n",
       "      <td>0.972333</td>\n",
       "      <td>0.991571</td>\n",
       "      <td>1.000000</td>\n",
       "      <td>0.977511</td>\n",
       "      <td>0.907780</td>\n",
       "      <td>0.898410</td>\n",
       "    </tr>\n",
       "    <tr>\n",
       "      <th>SUPPORT_SERVICES_EXPENDITURE</th>\n",
       "      <td>0.043488</td>\n",
       "      <td>0.988534</td>\n",
       "      <td>0.993475</td>\n",
       "      <td>0.977511</td>\n",
       "      <td>1.000000</td>\n",
       "      <td>0.949709</td>\n",
       "      <td>0.919539</td>\n",
       "    </tr>\n",
       "    <tr>\n",
       "      <th>OTHER_EXPENDITURE</th>\n",
       "      <td>-0.000882</td>\n",
       "      <td>0.970889</td>\n",
       "      <td>0.943541</td>\n",
       "      <td>0.907780</td>\n",
       "      <td>0.949709</td>\n",
       "      <td>1.000000</td>\n",
       "      <td>0.921472</td>\n",
       "    </tr>\n",
       "    <tr>\n",
       "      <th>CAPITAL_OUTLAY_EXPENDITURE</th>\n",
       "      <td>-0.010094</td>\n",
       "      <td>0.960392</td>\n",
       "      <td>0.933904</td>\n",
       "      <td>0.898410</td>\n",
       "      <td>0.919539</td>\n",
       "      <td>0.921472</td>\n",
       "      <td>1.000000</td>\n",
       "    </tr>\n",
       "  </tbody>\n",
       "</table>\n",
       "</div>"
      ],
      "text/plain": [
       "                              mean_score       PC1  TOTAL_EXPENDITURE  \\\n",
       "mean_score                      1.000000  0.020750           0.039933   \n",
       "PC1                             0.020750  1.000000           0.992502   \n",
       "TOTAL_EXPENDITURE               0.039933  0.992502           1.000000   \n",
       "INSTRUCTION_EXPENDITURE         0.047468  0.972333           0.991571   \n",
       "SUPPORT_SERVICES_EXPENDITURE    0.043488  0.988534           0.993475   \n",
       "OTHER_EXPENDITURE              -0.000882  0.970889           0.943541   \n",
       "CAPITAL_OUTLAY_EXPENDITURE     -0.010094  0.960392           0.933904   \n",
       "\n",
       "                              INSTRUCTION_EXPENDITURE  \\\n",
       "mean_score                                   0.047468   \n",
       "PC1                                          0.972333   \n",
       "TOTAL_EXPENDITURE                            0.991571   \n",
       "INSTRUCTION_EXPENDITURE                      1.000000   \n",
       "SUPPORT_SERVICES_EXPENDITURE                 0.977511   \n",
       "OTHER_EXPENDITURE                            0.907780   \n",
       "CAPITAL_OUTLAY_EXPENDITURE                   0.898410   \n",
       "\n",
       "                              SUPPORT_SERVICES_EXPENDITURE  OTHER_EXPENDITURE  \\\n",
       "mean_score                                        0.043488          -0.000882   \n",
       "PC1                                               0.988534           0.970889   \n",
       "TOTAL_EXPENDITURE                                 0.993475           0.943541   \n",
       "INSTRUCTION_EXPENDITURE                           0.977511           0.907780   \n",
       "SUPPORT_SERVICES_EXPENDITURE                      1.000000           0.949709   \n",
       "OTHER_EXPENDITURE                                 0.949709           1.000000   \n",
       "CAPITAL_OUTLAY_EXPENDITURE                        0.919539           0.921472   \n",
       "\n",
       "                              CAPITAL_OUTLAY_EXPENDITURE  \n",
       "mean_score                                     -0.010094  \n",
       "PC1                                             0.960392  \n",
       "TOTAL_EXPENDITURE                               0.933904  \n",
       "INSTRUCTION_EXPENDITURE                         0.898410  \n",
       "SUPPORT_SERVICES_EXPENDITURE                    0.919539  \n",
       "OTHER_EXPENDITURE                               0.921472  \n",
       "CAPITAL_OUTLAY_EXPENDITURE                      1.000000  "
      ]
     },
     "execution_count": 9,
     "metadata": {},
     "output_type": "execute_result"
    }
   ],
   "source": [
    "states_median_imputation[[\"mean_score\",\"PC1\",\"TOTAL_EXPENDITURE\", \"INSTRUCTION_EXPENDITURE\",\n",
    "              \"SUPPORT_SERVICES_EXPENDITURE\", \"OTHER_EXPENDITURE\", \"CAPITAL_OUTLAY_EXPENDITURE\"]].corr()"
   ]
  },
  {
   "cell_type": "markdown",
   "metadata": {},
   "source": [
    "The correlation between the average score and the Instruction Expenditure is still the highest one among others. Therefore I will chooese this variable for my model."
   ]
  }
 ],
 "metadata": {
  "kernelspec": {
   "display_name": "Python 3",
   "language": "python",
   "name": "python3"
  },
  "language_info": {
   "codemirror_mode": {
    "name": "ipython",
    "version": 3
   },
   "file_extension": ".py",
   "mimetype": "text/x-python",
   "name": "python",
   "nbconvert_exporter": "python",
   "pygments_lexer": "ipython3",
   "version": "3.8.3"
  }
 },
 "nbformat": 4,
 "nbformat_minor": 4
}
