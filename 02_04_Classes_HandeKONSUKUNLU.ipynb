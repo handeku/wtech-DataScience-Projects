{
 "cells": [
  {
   "cell_type": "markdown",
   "metadata": {},
   "source": [
    "# Assignment for \"Classes\""
   ]
  },
  {
   "cell_type": "markdown",
   "metadata": {},
   "source": [
    "In a retail application, many customers visit the retail outlet to purchase various items. The manager of the retail outlet now wants to keep track of all its items' and customers’ data. To achieve this purpose, please:\n",
    "\n",
    "\n",
    "- Define two classes named as `item` (with `item_name` and `price` attributes) and `customer` (with `customer_id`, `phone_number` attributes and `purchase` method). `purchase` method should calculate the total price with the given item name amount."
   ]
  },
  {
   "cell_type": "code",
   "execution_count": 1,
   "metadata": {},
   "outputs": [],
   "source": [
    "class item:\n",
    "    def __init__(self,item_name,price):\n",
    "        self.item_name=item_name\n",
    "        self.price=price\n",
    "    def launch(self):\n",
    "        return \"The price of %s is %dUSD.\"% (self.item_name,self.price)        "
   ]
  },
  {
   "cell_type": "code",
   "execution_count": 2,
   "metadata": {},
   "outputs": [],
   "source": [
    "class customer:\n",
    "    def __init__(self,customer_id,phone_number,item_name=\"\",price=0,amount=0):\n",
    "        self.customer_id=customer_id\n",
    "        self.phone_number=phone_number\n",
    "        self.item_name=item_name\n",
    "        self.price=price\n",
    "        self.amount=amount   \n",
    "    def purchase(self):\n",
    "        total_price=self.amount*self.price\n",
    "        return \"The total price of this item is %s.\"%(total_price)\n",
    "        "
   ]
  },
  {
   "cell_type": "markdown",
   "metadata": {},
   "source": [
    "- Create an item."
   ]
  },
  {
   "cell_type": "code",
   "execution_count": 3,
   "metadata": {},
   "outputs": [
    {
     "name": "stdout",
     "output_type": "stream",
     "text": [
      "Item:  shoes\n",
      "Price:  120\n",
      "The price of shoes is 120USD.\n"
     ]
    }
   ],
   "source": [
    "item1=item(\"shoes\",120)\n",
    "print(\"Item: \",item1.item_name)\n",
    "print(\"Price: \",item1.price)\n",
    "print(item1.launch())"
   ]
  },
  {
   "cell_type": "markdown",
   "metadata": {},
   "source": [
    "- Create a customer with an arbitrary ID and number."
   ]
  },
  {
   "cell_type": "code",
   "execution_count": 4,
   "metadata": {},
   "outputs": [
    {
     "name": "stdout",
     "output_type": "stream",
     "text": [
      "Customer ID:  U1234560\n",
      "Customer Phone Number:  +1 1234567\n"
     ]
    }
   ],
   "source": [
    "customer1=customer(\"U1234560\",\"+1 1234567\")\n",
    "print(\"Customer ID: \",customer1.customer_id)\n",
    "print(\"Customer Phone Number: \",customer1.phone_number)"
   ]
  },
  {
   "cell_type": "markdown",
   "metadata": {},
   "source": [
    "- Make customers buy an item with an arbitrary amount and then print the total price."
   ]
  },
  {
   "cell_type": "code",
   "execution_count": 5,
   "metadata": {},
   "outputs": [
    {
     "name": "stdout",
     "output_type": "stream",
     "text": [
      "Customer whose ID number is D158769 and phone number is +1 5648976, has bought 2 skirt for 50 USD.\n",
      "The total price of this item is 100.\n"
     ]
    }
   ],
   "source": [
    "customer2=customer(\"D158769\",\"+1 5648976\",\"skirt\",50,2)\n",
    "\n",
    "print(\"Customer whose ID number is {} and phone number is {}, has bought {} {} for {} USD.\".format(customer2.customer_id,customer2.phone_number,customer2.amount,customer2.item_name,customer2.price))\n",
    "print(customer2.purchase())"
   ]
  }
 ],
 "metadata": {
  "kernelspec": {
   "display_name": "Python 3",
   "language": "python",
   "name": "python3"
  },
  "language_info": {
   "codemirror_mode": {
    "name": "ipython",
    "version": 3
   },
   "file_extension": ".py",
   "mimetype": "text/x-python",
   "name": "python",
   "nbconvert_exporter": "python",
   "pygments_lexer": "ipython3",
   "version": "3.8.3"
  }
 },
 "nbformat": 4,
 "nbformat_minor": 4
}
