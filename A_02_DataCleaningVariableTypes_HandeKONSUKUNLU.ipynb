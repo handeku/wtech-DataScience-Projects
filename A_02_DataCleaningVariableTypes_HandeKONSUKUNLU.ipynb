{
 "cells": [
  {
   "cell_type": "markdown",
   "metadata": {},
   "source": [
    "# <font color=blue>Assignments for \"Data Cleaning - Variable Types\"</font>"
   ]
  },
  {
   "cell_type": "markdown",
   "metadata": {},
   "source": [
    "**(1)** Determine the types of the below-given variables:\n",
    "- Age\n",
    "- Salary\n",
    "- Income\n",
    "- Customer type\n",
    "- Stock price "
   ]
  },
  {
   "cell_type": "code",
   "execution_count": 1,
   "metadata": {},
   "outputs": [
    {
     "name": "stdout",
     "output_type": "stream",
     "text": [
      "The type of variable 'Age' is continuous (Quantitaive).\n",
      "The type of variable 'Salary' is continuous (Quantitaive).\n",
      "The type of variable 'Income' is continuous (Quantitaive).\n",
      "The type of variable 'Customer type' is nominal (Qualitaive).\n",
      "The type of variable 'Stock price' is continuous (Quantitaive).\n"
     ]
    }
   ],
   "source": [
    "print(\"The type of variable 'Age' is continuous (Quantitaive).\")\n",
    "print(\"The type of variable 'Salary' is continuous (Quantitaive).\")\n",
    "print(\"The type of variable 'Income' is continuous (Quantitaive).\")\n",
    "print(\"The type of variable 'Customer type' is nominal (Qualitaive).\")\n",
    "print(\"The type of variable 'Stock price' is continuous (Quantitaive).\")"
   ]
  },
  {
   "cell_type": "markdown",
   "metadata": {},
   "source": [
    "**(2)** Using the `movie` data, we have studied in this lesson. Complete the following tasks:\n",
    "    * Select a variable from the `movie` dataset and discuss the variable type of this variable\n",
    "    * Categorize a variable of your choice and assign a name to it\n",
    "    * Count the number of rows for each category"
   ]
  },
  {
   "cell_type": "code",
   "execution_count": 5,
   "metadata": {},
   "outputs": [],
   "source": [
    "import pandas as pd\n",
    "import numpy as np\n",
    "movie = pd.read_csv(\"https://bootrain-lms-assets.s3.eu-central-1.amazonaws.com/bootrain-lms-static/datasets/movie.csv\")"
   ]
  },
  {
   "cell_type": "code",
   "execution_count": 6,
   "metadata": {},
   "outputs": [
    {
     "data": {
      "text/plain": [
       "color                         object\n",
       "director_name                 object\n",
       "num_critic_for_reviews       float64\n",
       "duration                     float64\n",
       "director_facebook_likes      float64\n",
       "actor_3_facebook_likes       float64\n",
       "actor_2_name                  object\n",
       "actor_1_facebook_likes       float64\n",
       "gross                        float64\n",
       "genres                        object\n",
       "actor_1_name                  object\n",
       "movie_title                   object\n",
       "num_voted_users                int64\n",
       "cast_total_facebook_likes      int64\n",
       "actor_3_name                  object\n",
       "facenumber_in_poster         float64\n",
       "plot_keywords                 object\n",
       "movie_imdb_link               object\n",
       "num_user_for_reviews         float64\n",
       "language                      object\n",
       "country                       object\n",
       "content_rating                object\n",
       "budget                       float64\n",
       "title_year                   float64\n",
       "actor_2_facebook_likes       float64\n",
       "imdb_score                   float64\n",
       "aspect_ratio                 float64\n",
       "movie_facebook_likes           int64\n",
       "dtype: object"
      ]
     },
     "execution_count": 6,
     "metadata": {},
     "output_type": "execute_result"
    }
   ],
   "source": [
    "movie.dtypes"
   ]
  },
  {
   "cell_type": "markdown",
   "metadata": {},
   "source": [
    "Let's investistigate the variable \"IMDB Score\"."
   ]
  },
  {
   "cell_type": "code",
   "execution_count": 7,
   "metadata": {},
   "outputs": [
    {
     "name": "stdout",
     "output_type": "stream",
     "text": [
      "The type of variable 'IMDB Score' is continuous (Quantitaive).\n"
     ]
    }
   ],
   "source": [
    "print(\"The type of variable 'IMDB Score' is continuous (Quantitaive).\")"
   ]
  },
  {
   "cell_type": "code",
   "execution_count": 8,
   "metadata": {},
   "outputs": [
    {
     "data": {
      "text/plain": [
       "count    5043.000000\n",
       "mean        6.442138\n",
       "std         1.125116\n",
       "min         1.600000\n",
       "25%         5.800000\n",
       "50%         6.600000\n",
       "75%         7.200000\n",
       "max         9.500000\n",
       "Name: imdb_score, dtype: float64"
      ]
     },
     "metadata": {},
     "output_type": "display_data"
    }
   ],
   "source": [
    "imdb_desc=movie.imdb_score.describe()\n",
    "display(imdb_desc)"
   ]
  },
  {
   "cell_type": "code",
   "execution_count": 12,
   "metadata": {},
   "outputs": [
    {
     "name": "stdout",
     "output_type": "stream",
     "text": [
      "The number of missing values in the variable 'IMDB Score': 0\n"
     ]
    }
   ],
   "source": [
    "print(\"The number of missing values in the variable 'IMDB Score': {}\".format(movie.imdb_score.isnull().sum()))"
   ]
  },
  {
   "cell_type": "code",
   "execution_count": 13,
   "metadata": {},
   "outputs": [],
   "source": [
    "def imdb_score_discrete(imdb_score,imdb_threshold):\n",
    "    if imdb_score<=imdb_threshold[0]:\n",
    "        return 1\n",
    "    elif (imdb_score>imdb_threshold[0]) and (imdb_score<imdb_threshold[1]):\n",
    "        return 2\n",
    "    elif (imdb_score>=imdb_threshold[1]): \n",
    "        return 3  "
   ]
  },
  {
   "cell_type": "code",
   "execution_count": 16,
   "metadata": {},
   "outputs": [
    {
     "data": {
      "text/html": [
       "<div>\n",
       "<style scoped>\n",
       "    .dataframe tbody tr th:only-of-type {\n",
       "        vertical-align: middle;\n",
       "    }\n",
       "\n",
       "    .dataframe tbody tr th {\n",
       "        vertical-align: top;\n",
       "    }\n",
       "\n",
       "    .dataframe thead th {\n",
       "        text-align: right;\n",
       "    }\n",
       "</style>\n",
       "<table border=\"1\" class=\"dataframe\">\n",
       "  <thead>\n",
       "    <tr style=\"text-align: right;\">\n",
       "      <th></th>\n",
       "      <th>imdb_score</th>\n",
       "      <th>imdb_score_group</th>\n",
       "    </tr>\n",
       "  </thead>\n",
       "  <tbody>\n",
       "    <tr>\n",
       "      <th>0</th>\n",
       "      <td>7.9</td>\n",
       "      <td>3</td>\n",
       "    </tr>\n",
       "    <tr>\n",
       "      <th>1</th>\n",
       "      <td>7.1</td>\n",
       "      <td>2</td>\n",
       "    </tr>\n",
       "    <tr>\n",
       "      <th>2</th>\n",
       "      <td>6.8</td>\n",
       "      <td>2</td>\n",
       "    </tr>\n",
       "    <tr>\n",
       "      <th>3</th>\n",
       "      <td>8.5</td>\n",
       "      <td>3</td>\n",
       "    </tr>\n",
       "    <tr>\n",
       "      <th>4</th>\n",
       "      <td>7.1</td>\n",
       "      <td>2</td>\n",
       "    </tr>\n",
       "    <tr>\n",
       "      <th>...</th>\n",
       "      <td>...</td>\n",
       "      <td>...</td>\n",
       "    </tr>\n",
       "    <tr>\n",
       "      <th>5038</th>\n",
       "      <td>7.7</td>\n",
       "      <td>3</td>\n",
       "    </tr>\n",
       "    <tr>\n",
       "      <th>5039</th>\n",
       "      <td>7.5</td>\n",
       "      <td>3</td>\n",
       "    </tr>\n",
       "    <tr>\n",
       "      <th>5040</th>\n",
       "      <td>6.3</td>\n",
       "      <td>2</td>\n",
       "    </tr>\n",
       "    <tr>\n",
       "      <th>5041</th>\n",
       "      <td>6.3</td>\n",
       "      <td>2</td>\n",
       "    </tr>\n",
       "    <tr>\n",
       "      <th>5042</th>\n",
       "      <td>6.6</td>\n",
       "      <td>2</td>\n",
       "    </tr>\n",
       "  </tbody>\n",
       "</table>\n",
       "<p>5043 rows × 2 columns</p>\n",
       "</div>"
      ],
      "text/plain": [
       "      imdb_score  imdb_score_group\n",
       "0            7.9                 3\n",
       "1            7.1                 2\n",
       "2            6.8                 2\n",
       "3            8.5                 3\n",
       "4            7.1                 2\n",
       "...          ...               ...\n",
       "5038         7.7                 3\n",
       "5039         7.5                 3\n",
       "5040         6.3                 2\n",
       "5041         6.3                 2\n",
       "5042         6.6                 2\n",
       "\n",
       "[5043 rows x 2 columns]"
      ]
     },
     "metadata": {},
     "output_type": "display_data"
    }
   ],
   "source": [
    "imdb_quantile=imdb_desc[['25%','75%']]\n",
    "movie['imdb_score_group']=movie['imdb_score'].apply(imdb_score_discrete,imdb_threshold=imdb_quantile)\n",
    "display(movie[['imdb_score','imdb_score_group']])"
   ]
  },
  {
   "cell_type": "code",
   "execution_count": 17,
   "metadata": {},
   "outputs": [
    {
     "data": {
      "text/html": [
       "<div>\n",
       "<style scoped>\n",
       "    .dataframe tbody tr th:only-of-type {\n",
       "        vertical-align: middle;\n",
       "    }\n",
       "\n",
       "    .dataframe tbody tr th {\n",
       "        vertical-align: top;\n",
       "    }\n",
       "\n",
       "    .dataframe thead th {\n",
       "        text-align: right;\n",
       "    }\n",
       "</style>\n",
       "<table border=\"1\" class=\"dataframe\">\n",
       "  <thead>\n",
       "    <tr style=\"text-align: right;\">\n",
       "      <th></th>\n",
       "      <th>Value Counts</th>\n",
       "    </tr>\n",
       "    <tr>\n",
       "      <th>IMDB Score Groups</th>\n",
       "      <th></th>\n",
       "    </tr>\n",
       "  </thead>\n",
       "  <tbody>\n",
       "    <tr>\n",
       "      <th>low score</th>\n",
       "      <td>1310</td>\n",
       "    </tr>\n",
       "    <tr>\n",
       "      <th>medium score</th>\n",
       "      <td>2320</td>\n",
       "    </tr>\n",
       "    <tr>\n",
       "      <th>high score</th>\n",
       "      <td>1413</td>\n",
       "    </tr>\n",
       "  </tbody>\n",
       "</table>\n",
       "</div>"
      ],
      "text/plain": [
       "                   Value Counts\n",
       "IMDB Score Groups              \n",
       "low score                  1310\n",
       "medium score               2320\n",
       "high score                 1413"
      ]
     },
     "execution_count": 17,
     "metadata": {},
     "output_type": "execute_result"
    }
   ],
   "source": [
    "imdb_groups=movie.imdb_score_group.value_counts(sort=False).to_frame()\n",
    "imdb_groups.index=[\"low score\",\"medium score\",\"high score\"]\n",
    "imdb_groups.index.name='IMDB Score Groups'\n",
    "imdb_groups.rename(columns={'imdb_score_group': 'Value Counts'}, inplace=True)\n",
    "imdb_groups"
   ]
  },
  {
   "cell_type": "markdown",
   "metadata": {},
   "source": [
    "**(3)** Is it possible to convert categorical variable into numerical one? If so, how can you make that?"
   ]
  },
  {
   "cell_type": "code",
   "execution_count": null,
   "metadata": {},
   "outputs": [],
   "source": []
  },
  {
   "cell_type": "markdown",
   "metadata": {},
   "source": [
    "**(4)** While continuous data is generally preferred over discrete data, please indicate circumstances where discrete is the preferred data type although continuous data is available for the same characteristic."
   ]
  },
  {
   "cell_type": "code",
   "execution_count": null,
   "metadata": {},
   "outputs": [],
   "source": []
  },
  {
   "cell_type": "markdown",
   "metadata": {},
   "source": [
    "**(5)** While continuous data is measured and attribute data is counted, there is sometimes confusion if some specific dataset should be considered continuous or attribute. Provide some examples of confusing datasets and your inference. "
   ]
  },
  {
   "cell_type": "code",
   "execution_count": null,
   "metadata": {},
   "outputs": [],
   "source": []
  }
 ],
 "metadata": {
  "kernelspec": {
   "display_name": "Python 3",
   "language": "python",
   "name": "python3"
  },
  "language_info": {
   "codemirror_mode": {
    "name": "ipython",
    "version": 3
   },
   "file_extension": ".py",
   "mimetype": "text/x-python",
   "name": "python",
   "nbconvert_exporter": "python",
   "pygments_lexer": "ipython3",
   "version": "3.8.3"
  }
 },
 "nbformat": 4,
 "nbformat_minor": 4
}
