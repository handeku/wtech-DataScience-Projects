{
 "cells": [
  {
   "cell_type": "markdown",
   "metadata": {},
   "source": [
    "# <font color=blue>Assignments for \"Overfitting and Regularization\"</font>"
   ]
  },
  {
   "cell_type": "markdown",
   "metadata": {},
   "source": [
    "In this assignment, you'll continue working with the house prices data. To complete this assignment, submit a link to a Jupyter notebook containing your solutions to the following tasks:\n",
    "\n",
    "- Load the **houseprices** data from Kaggle.\n",
    "- Reimplement your model from the previous lesson.\n",
    "- Try OLS, Lasso, Ridge and ElasticNet regressions using the same model specification. This time, you need to do **k-fold cross-validation** to choose the best hyperparameter values for your models. Which model is the best? Why?"
   ]
  },
  {
   "cell_type": "code",
   "execution_count": 1,
   "metadata": {},
   "outputs": [],
   "source": [
    "import numpy as np\n",
    "import pandas as pd\n",
    "import seaborn as sns\n",
    "from sklearn import linear_model\n",
    "import matplotlib.pyplot as plt\n",
    "import pandas.api.types as pt\n",
    "import scipy.stats as stats\n",
    "from scipy.stats import chi2_contingency\n",
    "import researchpy as rp\n",
    "import statsmodels.api as sm\n",
    "from sklearn.model_selection import train_test_split\n",
    "from sklearn.metrics import mean_absolute_error\n",
    "from statsmodels.tools.eval_measures import mse, rmse\n",
    "from statsmodels.formula.api import ols\n",
    "from sklearn.linear_model import Ridge,Lasso,ElasticNet, LinearRegression\n",
    "import warnings\n",
    "warnings.filterwarnings('ignore')\n",
    "pd.set_option('display.max_rows', 1000)\n",
    "pd.set_option('display.max_columns', 500)\n",
    "\n",
    "sns.set(style=\"whitegrid\")\n",
    "pd.options.display.float_format = '{:.2f}'.format\n",
    "plt.rcParams['figure.dpi'] = 100\n",
    "plt.rcParams['figure.figsize'] = (8,5.5)\n",
    "\n",
    "title_font = {'family': 'arial', 'color': 'darkred','weight': 'bold','size': 13 }\n",
    "axis_font  = {'family': 'arial', 'color': 'darkblue','weight': 'bold','size': 10}"
   ]
  },
  {
   "cell_type": "code",
   "execution_count": 2,
   "metadata": {},
   "outputs": [],
   "source": [
    "house_prices_train = pd.read_csv(\"../../data/regression_assignments/train.csv\")\n",
    "variables=house_prices_train[['SalePrice','OverallQual','YearBuilt','YearRemodAdd','MasVnrArea','TotalBsmtSF','FullBath','Fireplaces',\n",
    "                                'GarageCars','MSZoning','Street','LotShape','LandContour','BldgType','CentralAir', 'SaleCondition']]\n",
    "variables['MasVnrArea'].fillna(variables['MasVnrArea'].median(),inplace=True)\n",
    "var_numeric=variables.select_dtypes(include=['float64','int64'])\n",
    "var_cat=variables.select_dtypes(include=['object'])\n",
    "var_dummies=pd.get_dummies(var_cat,drop_first=True)\n",
    "\n",
    "var_regress=pd.concat([var_numeric,var_dummies],axis=1)"
   ]
  },
  {
   "cell_type": "code",
   "execution_count": 3,
   "metadata": {},
   "outputs": [],
   "source": [
    "Y=var_regress['SalePrice']\n",
    "X=var_regress.loc[:,var_regress.columns!='SalePrice']"
   ]
  },
  {
   "cell_type": "code",
   "execution_count": 4,
   "metadata": {},
   "outputs": [],
   "source": [
    "X_train, X_test, Y_train, Y_test = train_test_split(X, Y, test_size = 0.3, random_state = 6)"
   ]
  },
  {
   "cell_type": "markdown",
   "metadata": {},
   "source": [
    "**Linear Regression**"
   ]
  },
  {
   "cell_type": "code",
   "execution_count": 5,
   "metadata": {},
   "outputs": [
    {
     "name": "stdout",
     "output_type": "stream",
     "text": [
      "R-squared of the model in training set is: 0.7757\n",
      "-----Test set statistics-----\n",
      "R-squared of the model in test set is: 0.7469\n",
      "Mean absolute error of the prediction is: 26203.0203\n",
      "Mean squared error of the prediction is: 1739675034.6602\n",
      "Root mean squared error of the prediction is: 41709.4118\n",
      "Mean absolute percentage error of the prediction is: 15.2806\n"
     ]
    }
   ],
   "source": [
    "lrm = LinearRegression()\n",
    "lrm.fit(X_train, Y_train)\n",
    "\n",
    "Y_preds_train = lrm.predict(X_train)\n",
    "Y_preds_test = lrm.predict(X_test)\n",
    "\n",
    "print(\"R-squared of the model in training set is: {:.4f}\".format(lrm.score(X_train, Y_train)))\n",
    "print(\"-----Test set statistics-----\")\n",
    "print(\"R-squared of the model in test set is: {:.4f}\".format(lrm.score(X_test, Y_test)))\n",
    "print(\"Mean absolute error of the prediction is: {:.4f}\".format(mean_absolute_error(Y_test, Y_preds_test)))\n",
    "print(\"Mean squared error of the prediction is: {:.4f}\".format(mse(Y_test, Y_preds_test)))\n",
    "print(\"Root mean squared error of the prediction is: {:.4f}\".format(rmse(Y_test, Y_preds_test)))\n",
    "print(\"Mean absolute percentage error of the prediction is: {:.4f}\".format(np.mean(np.abs((Y_test - Y_preds_test) / Y_test)) * 100))"
   ]
  },
  {
   "cell_type": "markdown",
   "metadata": {},
   "source": [
    "**Ridge Regression**"
   ]
  },
  {
   "cell_type": "code",
   "execution_count": 6,
   "metadata": {},
   "outputs": [
    {
     "name": "stdout",
     "output_type": "stream",
     "text": [
      "R-squared of the model in training set is: 0.7714\n",
      "-----Test set statistics-----\n",
      "R-squared of the model in test set is: 0.7546\n",
      "Mean absolute error of the prediction is: 25902.2899\n",
      "Mean squared error of the prediction is: 1686664580.4456\n",
      "Root mean squared error of the prediction is: 41069.0222\n",
      "Mean absolute percentage error of the prediction is: 14.9915\n"
     ]
    }
   ],
   "source": [
    "ridgeregr = Ridge(alpha=10**1.1) \n",
    "ridgeregr.fit(X_train, Y_train)\n",
    "\n",
    "# We are making predictions here\n",
    "Y_preds_train = ridgeregr.predict(X_train)\n",
    "Y_preds_test = ridgeregr.predict(X_test)\n",
    "\n",
    "print(\"R-squared of the model in training set is: {:.4f}\".format(ridgeregr.score(X_train, Y_train)))\n",
    "print(\"-----Test set statistics-----\")\n",
    "print(\"R-squared of the model in test set is: {:.4f}\".format(ridgeregr.score(X_test, Y_test)))\n",
    "print(\"Mean absolute error of the prediction is: {:.4f}\".format(mean_absolute_error(Y_test, Y_preds_test)))\n",
    "print(\"Mean squared error of the prediction is: {:.4f}\".format(mse(Y_test, Y_preds_test)))\n",
    "print(\"Root mean squared error of the prediction is: {:.4f}\".format(rmse(Y_test, Y_preds_test)))\n",
    "print(\"Mean absolute percentage error of the prediction is: {:.4f}\".format(np.mean(np.abs((Y_test - Y_preds_test) / Y_test)) * 100))"
   ]
  },
  {
   "cell_type": "markdown",
   "metadata": {},
   "source": [
    "**Lasso Regression**"
   ]
  },
  {
   "cell_type": "code",
   "execution_count": 7,
   "metadata": {},
   "outputs": [
    {
     "name": "stdout",
     "output_type": "stream",
     "text": [
      "R-squared of the model in training set is: 0.7733\n",
      "-----Test set statistics-----\n",
      "R-squared of the model in test set is: 0.7501\n",
      "Mean absolute error of the prediction is: 25971.7619\n",
      "Mean squared error of the prediction is: 1717728722.0432\n",
      "Root mean squared error of the prediction is: 41445.4910\n",
      "Mean absolute percentage error of the prediction is: 14.9796\n"
     ]
    }
   ],
   "source": [
    "lassoregr = Lasso(alpha=10**2.0)\n",
    "lassoregr.fit(X_train, Y_train)\n",
    "\n",
    "# We are making predictions here\n",
    "Y_preds_train = lassoregr.predict(X_train)\n",
    "Y_preds_test = lassoregr.predict(X_test)\n",
    "\n",
    "print(\"R-squared of the model in training set is: {:.4f}\".format(lassoregr.score(X_train, Y_train)))\n",
    "print(\"-----Test set statistics-----\")\n",
    "print(\"R-squared of the model in test set is: {:.4f}\".format(lassoregr.score(X_test, Y_test)))\n",
    "print(\"Mean absolute error of the prediction is: {:.4f}\".format(mean_absolute_error(Y_test, Y_preds_test)))\n",
    "print(\"Mean squared error of the prediction is: {:.4f}\".format(mse(Y_test, Y_preds_test)))\n",
    "print(\"Root mean squared error of the prediction is: {:.4f}\".format(rmse(Y_test, Y_preds_test)))\n",
    "print(\"Mean absolute percentage error of the prediction is: {:.4f}\".format(np.mean(np.abs((Y_test - Y_preds_test) / Y_test)) * 100))"
   ]
  },
  {
   "cell_type": "markdown",
   "metadata": {},
   "source": [
    "**ElasticNet Regression**"
   ]
  },
  {
   "cell_type": "code",
   "execution_count": 8,
   "metadata": {},
   "outputs": [
    {
     "name": "stdout",
     "output_type": "stream",
     "text": [
      "R-squared of the model in training set is: 0.7733\n",
      "-----Test set statistics-----\n",
      "R-squared of the model in test set is: 0.7501\n",
      "Mean absolute error of the prediction is: 25971.7619\n",
      "Mean squared error of the prediction is: 1717728722.0432\n",
      "Root mean squared error of the prediction is: 41445.4910\n",
      "Mean absolute percentage error of the prediction is: 14.9796\n"
     ]
    }
   ],
   "source": [
    "elasticregr = ElasticNet(alpha=10**2.0,l1_ratio=1.0) \n",
    "elasticregr.fit(X_train, Y_train)\n",
    "\n",
    "# We are making predictions here\n",
    "Y_preds_train = elasticregr.predict(X_train)\n",
    "Y_preds_test = elasticregr.predict(X_test)\n",
    "\n",
    "print(\"R-squared of the model in training set is: {:.4f}\".format(elasticregr.score(X_train, Y_train)))\n",
    "print(\"-----Test set statistics-----\")\n",
    "print(\"R-squared of the model in test set is: {:.4f}\".format(elasticregr.score(X_test, Y_test)))\n",
    "print(\"Mean absolute error of the prediction is: {:.4f}\".format(mean_absolute_error(Y_test, Y_preds_test)))\n",
    "print(\"Mean squared error of the prediction is: {:.4f}\".format(mse(Y_test, Y_preds_test)))\n",
    "print(\"Root mean squared error of the prediction is: {:.4f}\".format(rmse(Y_test, Y_preds_test)))\n",
    "print(\"Mean absolute percentage error of the prediction is: {:.4f}\".format(np.mean(np.abs((Y_test - Y_preds_test) / Y_test)) * 100))"
   ]
  },
  {
   "cell_type": "code",
   "execution_count": 9,
   "metadata": {},
   "outputs": [
    {
     "name": "stdout",
     "output_type": "stream",
     "text": [
      "**************************************************\n",
      "The best model is Ridge Regression.\n",
      "**************************************************\n"
     ]
    }
   ],
   "source": [
    "print(\"**\"*25)\n",
    "print(\"The best model is Ridge Regression.\")\n",
    "print(\"**\"*25)"
   ]
  }
 ],
 "metadata": {
  "kernelspec": {
   "display_name": "Python 3",
   "language": "python",
   "name": "python3"
  },
  "language_info": {
   "codemirror_mode": {
    "name": "ipython",
    "version": 3
   },
   "file_extension": ".py",
   "mimetype": "text/x-python",
   "name": "python",
   "nbconvert_exporter": "python",
   "pygments_lexer": "ipython3",
   "version": "3.8.3"
  },
  "latex_envs": {
   "LaTeX_envs_menu_present": true,
   "autoclose": false,
   "autocomplete": true,
   "bibliofile": "biblio.bib",
   "cite_by": "apalike",
   "current_citInitial": 1,
   "eqLabelWithNumbers": true,
   "eqNumInitial": 1,
   "hotkeys": {
    "equation": "Ctrl-E",
    "itemize": "Ctrl-I"
   },
   "labels_anchors": false,
   "latex_user_defs": false,
   "report_style_numbering": false,
   "user_envs_cfg": false
  },
  "varInspector": {
   "cols": {
    "lenName": 16,
    "lenType": 16,
    "lenVar": 40
   },
   "kernels_config": {
    "python": {
     "delete_cmd_postfix": "",
     "delete_cmd_prefix": "del ",
     "library": "var_list.py",
     "varRefreshCmd": "print(var_dic_list())"
    },
    "r": {
     "delete_cmd_postfix": ") ",
     "delete_cmd_prefix": "rm(",
     "library": "var_list.r",
     "varRefreshCmd": "cat(var_dic_list()) "
    }
   },
   "types_to_exclude": [
    "module",
    "function",
    "builtin_function_or_method",
    "instance",
    "_Feature"
   ],
   "window_display": false
  }
 },
 "nbformat": 4,
 "nbformat_minor": 4
}
