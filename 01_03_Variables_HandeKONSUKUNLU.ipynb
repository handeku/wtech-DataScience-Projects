{
 "cells": [
  {
   "cell_type": "markdown",
   "metadata": {},
   "source": [
    "# Assignments for \"What are Variables?\" "
   ]
  },
  {
   "cell_type": "markdown",
   "metadata": {},
   "source": [
    "1. Define two variables as `x` and `y`. Assign `1` to `x` and `'1'` to `y`. Then check if two variables have the same value and type."
   ]
  },
  {
   "cell_type": "code",
   "execution_count": 1,
   "metadata": {},
   "outputs": [
    {
     "name": "stdout",
     "output_type": "stream",
     "text": [
      "\"x and y do not have same type and same value.\"\n"
     ]
    }
   ],
   "source": [
    "x=1\n",
    "y='1'\n",
    "if x==y:\n",
    "    if type(x)==type(y):\n",
    "        print(\"x and y have same type\")\n",
    "else:\n",
    "    print('\"x and y do not have same type and same value.\"')        "
   ]
  },
  {
   "cell_type": "markdown",
   "metadata": {},
   "source": [
    "2. Change the type of variable `y` and make the two variables the same."
   ]
  },
  {
   "cell_type": "code",
   "execution_count": 2,
   "metadata": {},
   "outputs": [
    {
     "name": "stdout",
     "output_type": "stream",
     "text": [
      "\"x and y have same type.\"\n"
     ]
    }
   ],
   "source": [
    "x=1\n",
    "y=int('1')\n",
    "if x==y:\n",
    "    if type(x)==type(y):\n",
    "        print('\"x and y have same type.\"')\n",
    "else:\n",
    "    print('\"x and y do not have same type and same value.\"')    "
   ]
  }
 ],
 "metadata": {
  "kernelspec": {
   "display_name": "Python 3",
   "language": "python",
   "name": "python3"
  },
  "language_info": {
   "codemirror_mode": {
    "name": "ipython",
    "version": 3
   },
   "file_extension": ".py",
   "mimetype": "text/x-python",
   "name": "python",
   "nbconvert_exporter": "python",
   "pygments_lexer": "ipython3",
   "version": "3.8.3"
  }
 },
 "nbformat": 4,
 "nbformat_minor": 4
}
